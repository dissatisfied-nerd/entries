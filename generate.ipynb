{
 "cells": [
  {
   "cell_type": "markdown",
   "id": "c8e1238d",
   "metadata": {},
   "source": [
    "# Генерация входного датасета"
   ]
  },
  {
   "cell_type": "markdown",
   "id": "eb105913",
   "metadata": {},
   "source": [
    "## Импорт библиотек"
   ]
  },
  {
   "cell_type": "code",
   "execution_count": 1,
   "id": "dbdd20b6",
   "metadata": {
    "execution": {
     "iopub.execute_input": "2025-06-29T05:22:31.112740Z",
     "iopub.status.busy": "2025-06-29T05:22:31.112564Z",
     "iopub.status.idle": "2025-06-29T05:22:31.377637Z",
     "shell.execute_reply": "2025-06-29T05:22:31.377011Z"
    }
   },
   "outputs": [],
   "source": [
    "import random\n",
    "import pandas as pd\n",
    "from datetime import datetime, timedelta"
   ]
  },
  {
   "cell_type": "markdown",
   "id": "626b9455",
   "metadata": {},
   "source": [
    "## Счётчики данных"
   ]
  },
  {
   "cell_type": "code",
   "execution_count": 2,
   "id": "9862eabf",
   "metadata": {
    "execution": {
     "iopub.execute_input": "2025-06-29T05:22:31.379694Z",
     "iopub.status.busy": "2025-06-29T05:22:31.379499Z",
     "iopub.status.idle": "2025-06-29T05:22:31.382505Z",
     "shell.execute_reply": "2025-06-29T05:22:31.381986Z"
    }
   },
   "outputs": [],
   "source": [
    "wrong_enter = 0\n",
    "unplanned_enter = 0\n",
    "planned_enter = 0\n",
    "\n",
    "errors_amount : int"
   ]
  },
  {
   "cell_type": "markdown",
   "id": "b4531f99",
   "metadata": {},
   "source": [
    "## Множества входных данных"
   ]
  },
  {
   "cell_type": "code",
   "execution_count": 3,
   "id": "eb9063a3",
   "metadata": {
    "execution": {
     "iopub.execute_input": "2025-06-29T05:22:31.384170Z",
     "iopub.status.busy": "2025-06-29T05:22:31.384029Z",
     "iopub.status.idle": "2025-06-29T05:22:31.395827Z",
     "shell.execute_reply": "2025-06-29T05:22:31.395342Z"
    }
   },
   "outputs": [],
   "source": [
    "full_names_52 = [\n",
    "    \"Семёнов Дмитрий Иванович\",\n",
    "    \"Головин Сергей Вальерьевич\",\n",
    "    \"Путилов Андрей Маркович\",\n",
    "    \"Лапухов Алексей Дмитриевич\",\n",
    "    \"Дружинин Георгий Михайлович\",    \n",
    "]\n",
    "\n",
    "full_names_22 = [\n",
    "    \"Работаев Даниил Игоревич\",\n",
    "    \"Работаева Ирина Генриховна\"\n",
    "]\n",
    "\n",
    "full_names_dinner = [\n",
    "    \"Семёнов Дмитрий Иванович\",\n",
    "    \"Головин Сергей Вальерьевич\",\n",
    "    \"Работаев Даниил Игоревич\",\n",
    "    \"Работаева Ирина Генриховна\"\n",
    "]\n",
    "\n",
    "status = [\n",
    "    \"Вход\",\n",
    "    \"Выход\",\n",
    "    \"Доступ запрещён\"\n",
    "]\n",
    "\n",
    "emergency_events = [\n",
    "    \"Учебная пожарная эвакуация\",\n",
    "    \"Проверка систем голосового оповещения и сигнализации\",\n",
    "    \"Учения по антитеррористической безопасности\"\n",
    "]\n",
    "\n",
    "departments = [\n",
    "    \"Департамент хороших дел\",\n",
    "    \"Департамент светлых помыслов\",\n",
    "    \"Департамент доброго сердца\"\n",
    "]"
   ]
  },
  {
   "cell_type": "markdown",
   "id": "7bf69ac3",
   "metadata": {},
   "source": [
    "## Формирование отчётного периода"
   ]
  },
  {
   "cell_type": "code",
   "execution_count": 4,
   "id": "caee51b7",
   "metadata": {
    "execution": {
     "iopub.execute_input": "2025-06-29T05:22:31.397980Z",
     "iopub.status.busy": "2025-06-29T05:22:31.397562Z",
     "iopub.status.idle": "2025-06-29T05:22:31.401384Z",
     "shell.execute_reply": "2025-06-29T05:22:31.400854Z"
    }
   },
   "outputs": [],
   "source": [
    "def GenerateReportingPeriods() -> tuple:\n",
    "    start_date = datetime(\n",
    "        year=2006,\n",
    "        month=4,\n",
    "        day=1,\n",
    "        hour=8,\n",
    "        minute=0,\n",
    "        second=0\n",
    "    )\n",
    "\n",
    "    stop_date = start_date.replace(month=6, day=29)\n",
    "    date_range = (stop_date - start_date).days\n",
    "    \n",
    "    return (\n",
    "        [start_date + timedelta(days=day) \n",
    "            for day in range(date_range) \n",
    "            if (start_date + timedelta(days=day)).weekday() not in [5, 6]],\n",
    "        [start_date + timedelta(days=day)\n",
    "            for day in range(date_range)\n",
    "            if (day % 4) < 2]\n",
    "    )"
   ]
  },
  {
   "cell_type": "markdown",
   "id": "a318c9bc",
   "metadata": {},
   "source": [
    "## Утилиты для генерации"
   ]
  },
  {
   "cell_type": "code",
   "execution_count": 5,
   "id": "500541e0",
   "metadata": {
    "execution": {
     "iopub.execute_input": "2025-06-29T05:22:31.403013Z",
     "iopub.status.busy": "2025-06-29T05:22:31.402876Z",
     "iopub.status.idle": "2025-06-29T05:22:31.409021Z",
     "shell.execute_reply": "2025-06-29T05:22:31.408593Z"
    }
   },
   "outputs": [],
   "source": [
    "def GetProbability():\n",
    "    return random.randint(0, 99) < 4\n",
    "\n",
    "def GetTimeOffset(hours_max_offset, minutes_max_offset, seconds_max_offset) -> timedelta:\n",
    "    return timedelta(\n",
    "            hours=random.randint(0, hours_max_offset),\n",
    "            minutes=random.randint(0, minutes_max_offset),\n",
    "            seconds=random.randint(0, seconds_max_offset)\n",
    "        ) "
   ]
  },
  {
   "cell_type": "markdown",
   "id": "f532d10f",
   "metadata": {},
   "source": [
    "### Генерация множества запланированных событий, подразумевающих выход не через турникет."
   ]
  },
  {
   "cell_type": "code",
   "execution_count": 6,
   "id": "ac8df355",
   "metadata": {
    "execution": {
     "iopub.execute_input": "2025-06-29T05:22:31.410775Z",
     "iopub.status.busy": "2025-06-29T05:22:31.410640Z",
     "iopub.status.idle": "2025-06-29T05:22:31.414430Z",
     "shell.execute_reply": "2025-06-29T05:22:31.414066Z"
    }
   },
   "outputs": [],
   "source": [
    "def GenerateEmergency(reporting_period : list) -> list:\n",
    "    acc = []\n",
    "    \n",
    "    emergency_amounts = round(len(reporting_period) * 0.1)\n",
    "    samples = random.sample(reporting_period, emergency_amounts)\n",
    "\n",
    "    for current_date in samples:\n",
    "        acc.append({\n",
    "            \"name\" : random.choice(emergency_events),\n",
    "            \"event_dt\" : current_date.replace(hour=11) + GetTimeOffset(1, 0, 0),\n",
    "            \"duration\" : random.choice([10, 15, 20, 25, 30])  \n",
    "        })\n",
    "\n",
    "    return acc"
   ]
  },
  {
   "cell_type": "markdown",
   "id": "0cd16eec",
   "metadata": {},
   "source": [
    "## Внесение разнообразия в данные"
   ]
  },
  {
   "cell_type": "code",
   "execution_count": 7,
   "id": "dbf81fef",
   "metadata": {
    "execution": {
     "iopub.execute_input": "2025-06-29T05:22:31.416196Z",
     "iopub.status.busy": "2025-06-29T05:22:31.416020Z",
     "iopub.status.idle": "2025-06-29T05:22:31.421167Z",
     "shell.execute_reply": "2025-06-29T05:22:31.420781Z"
    }
   },
   "outputs": [],
   "source": [
    "def DiversifyEnter(name : str, current_dt : datetime) -> tuple:\n",
    "    acc = []\n",
    "\n",
    "    last_dt = current_dt + GetTimeOffset(2, 30, 59)\n",
    "\n",
    "    #С вероятностью 5% сотрудник попытался войти слишком рано или через неправильный турникет\n",
    "    if GetProbability():\n",
    "        global wrong_enter\n",
    "        wrong_enter += 1\n",
    "        acc.append({\n",
    "            \"full_name\" : name,\n",
    "            \"event_dt\" : last_dt - GetTimeOffset(0, 9, 59) - timedelta(seconds=1),\n",
    "            \"status\" : status[2]\n",
    "        })\n",
    "\n",
    "    #Входим\n",
    "    acc.append({\n",
    "        \"full_name\" : name,\n",
    "        \"event_dt\" : last_dt,\n",
    "        \"status\" : status[0]\n",
    "    })\n",
    "\n",
    "    return (acc, last_dt)\n",
    "\n",
    "\n",
    "def DiversifyDay(name : str, last_dt : datetime) -> list:\n",
    "    acc = []\n",
    "\n",
    "    #Добавляем выход и вход тем, кто обедает за пределами офиса\n",
    "    if name in full_names_dinner:\n",
    "        last_dt += timedelta(hours=4, minutes=30) + GetTimeOffset(0, 30, 59)\n",
    "\n",
    "        acc.append({\n",
    "            \"full_name\" : name,\n",
    "            \"event_dt\" : last_dt,\n",
    "            \"status\" : status[1]\n",
    "        })\n",
    "\n",
    "        last_dt += timedelta(minutes=30) + GetTimeOffset(0, 30, 59)\n",
    "        \n",
    "        acc.append({\n",
    "            \"full_name\" : name,\n",
    "            \"event_dt\" : last_dt,\n",
    "            \"status\" : status[0]\n",
    "        })\n",
    "    \n",
    "    #С вероятностью 0.05 сотрудник покинул офис не через турникет и это не было запланированно\n",
    "    if GetProbability():\n",
    "        global unplanned_enter\n",
    "        unplanned_enter += 1\n",
    "        last_dt += timedelta(minutes=1) + GetTimeOffset(0, 20, 59)\n",
    "\n",
    "        acc.append({\n",
    "            \"full_name\" : name,\n",
    "            \"event_dt\" : last_dt,\n",
    "            \"status\" : status[0]\n",
    "        }) \n",
    "        \n",
    "    return acc"
   ]
  },
  {
   "cell_type": "markdown",
   "id": "8c22a00f",
   "metadata": {},
   "source": [
    "## Генерация данных\n",
    "\n",
    "Опишем временные интервалы событий\n",
    "\n",
    "Для графика 5/2:\n",
    "| NAME | MIN | MAX | STATUS |\n",
    "|:---|:---:|:---:|:---|\n",
    "| Ошибочный вход | 07:50:00 | 10:30:58 | Доступ запрещён |\n",
    "| Первый вход | 08:00:00 | 10:30:59 | Вход |\n",
    "| Запланированный вход | 11:10:00 | 12:39:59 | Вход |\n",
    "| Выход на обед | 13:00:59 | 15:31:58 | Выход |\n",
    "| Вход с обеда | 13:30:59 | 16:32:57 | Вход |\n",
    "| Незапланированный вход без обеда | 08:01:00 | 10:51:58 | Вход |\n",
    "| Незапланированный вход с обедом | 13:31:59 | 16:53:56 | Вход |\n",
    "| Нормальный выход | 17:00:00 | 22:01:58 | Выход |\n",
    "| Выход после задержки | 18:58:01 | 23:59:59 | Выход |"
   ]
  },
  {
   "cell_type": "code",
   "execution_count": 8,
   "id": "1b9c22c7",
   "metadata": {
    "execution": {
     "iopub.execute_input": "2025-06-29T05:22:31.423118Z",
     "iopub.status.busy": "2025-06-29T05:22:31.422809Z",
     "iopub.status.idle": "2025-06-29T05:22:31.429173Z",
     "shell.execute_reply": "2025-06-29T05:22:31.428761Z"
    }
   },
   "outputs": [],
   "source": [
    "def GenerateData(reporting_period_52 : list, reporting_period_22 : list, emergency : list) -> list:\n",
    "    acc = []\n",
    "\n",
    "    #График 5/2\n",
    "    for current_date in reporting_period_52:\n",
    "        for name in full_names_52:\n",
    "            #Вносим разнообразие в данные\n",
    "            tmp, last_dt = DiversifyEnter(name, current_date)\n",
    "            acc += DiversifyDay(name, last_dt)\n",
    "            acc += tmp\n",
    "\n",
    "            #С вероятностью 0.05 сотрудник задерживается, присваиваем статус \"Доступ запрещён\"\n",
    "            if GetProbability():\n",
    "                working_hours = timedelta(hours=10, minutes=58, seconds=1)\n",
    "                exit_status = status[2]\n",
    "            else:\n",
    "                working_hours = timedelta(hours=9)\n",
    "                exit_status = status[1]\n",
    "\n",
    "            #Уходим\n",
    "            acc.append({\n",
    "                \"full_name\" : name,\n",
    "                \"event_dt\" : current_date + working_hours + GetTimeOffset(2, 30, 59),\n",
    "                \"status\" : exit_status\n",
    "            })\n",
    "\n",
    "    #Грфик 2/2\n",
    "    for i in range(0, len(reporting_period_22) - 1, 2):\n",
    "        for name in full_names_22:\n",
    "            first_date = reporting_period_22[i]\n",
    "            second_date = reporting_period_22[i + 1]\n",
    "\n",
    "            #Вносим разнообразие в данные\n",
    "            tmp, last_dt = DiversifyEnter(name, first_date)\n",
    "            acc += DiversifyDay(name, last_dt)\n",
    "            acc += tmp\n",
    "\n",
    "            #В первый день не уходим, второй день начинаем с обеда\n",
    "            last_dt = second_date + GetTimeOffset(2, 30, 59)\n",
    "            acc += DiversifyDay(name, last_dt)\n",
    "\n",
    "            #Уходим во второй день\n",
    "            acc.append({\n",
    "                \"full_name\" : name,\n",
    "                \"event_dt\" : last_dt + timedelta(hours=9) + GetTimeOffset(2, 30, 59),\n",
    "                \"status\" : status[1]\n",
    "            })\n",
    "\n",
    "    #Обрабатываем непарный элемент (отчётный период кончается после первого дня)\n",
    "    if len(reporting_period_22) % 2 != 0:\n",
    "        current_date = reporting_period_22[-1]\n",
    "\n",
    "        for name in full_names_22:\n",
    "            #Вносим разнообразие в данные\n",
    "            tmp, last_dt = DiversifyEnter(name, current_date)\n",
    "            acc += DiversifyDay(name, last_dt)\n",
    "            acc += tmp\n",
    "\n",
    "    #Запланированные учения\n",
    "    for elem in emergency:\n",
    "        for name in full_names_52 + full_names_22:\n",
    "            global planned_enter\n",
    "            planned_enter += 1\n",
    "            acc.append({\n",
    "                \"full_name\" : name,\n",
    "                \"event_dt\" : elem[\"event_dt\"] + timedelta(minutes=elem[\"duration\"]) + GetTimeOffset(0, 9, 59),\n",
    "                \"status\" : status[0]\n",
    "            })\n",
    "    return acc"
   ]
  },
  {
   "cell_type": "markdown",
   "id": "b13ee39a",
   "metadata": {},
   "source": [
    "## Добавление ошибок"
   ]
  },
  {
   "cell_type": "code",
   "execution_count": 9,
   "id": "c63a9576",
   "metadata": {
    "execution": {
     "iopub.execute_input": "2025-06-29T05:22:31.430875Z",
     "iopub.status.busy": "2025-06-29T05:22:31.430734Z",
     "iopub.status.idle": "2025-06-29T05:22:31.437340Z",
     "shell.execute_reply": "2025-06-29T05:22:31.436681Z"
    }
   },
   "outputs": [],
   "source": [
    "def GenerateErrors(data : pd.DataFrame) -> pd.DataFrame:\n",
    "    global errors_amount\n",
    "    errors_amount = round(len(data) * 0.05)\n",
    "    samples = data.sample(errors_amount)\n",
    "    copies = samples.copy()\n",
    "\n",
    "    copies[\"event_dt\"] += GetTimeOffset(0, 0, 58) + timedelta(seconds=1)\n",
    "\n",
    "    return copies"
   ]
  },
  {
   "cell_type": "markdown",
   "id": "261ce42a",
   "metadata": {},
   "source": [
    "## Генерация департаментов"
   ]
  },
  {
   "cell_type": "code",
   "execution_count": 10,
   "id": "dc35e3ed",
   "metadata": {
    "execution": {
     "iopub.execute_input": "2025-06-29T05:22:31.439214Z",
     "iopub.status.busy": "2025-06-29T05:22:31.438994Z",
     "iopub.status.idle": "2025-06-29T05:22:31.442102Z",
     "shell.execute_reply": "2025-06-29T05:22:31.441740Z"
    }
   },
   "outputs": [],
   "source": [
    "def GenerateDepartment() -> list:\n",
    "    acc = []\n",
    "\n",
    "    for dep in departments:\n",
    "        acc.append({\n",
    "            \"name\" : dep,\n",
    "            \"enter_hour\" : 8 + random.randint(0, 2),\n",
    "            \"exit_hour\" : 17 + random.randint(0, 2)\n",
    "        })\n",
    "    \n",
    "    return acc"
   ]
  },
  {
   "cell_type": "markdown",
   "id": "e4ff0d84",
   "metadata": {},
   "source": [
    "## Распределение сотрудников по департаментам"
   ]
  },
  {
   "cell_type": "code",
   "execution_count": 11,
   "id": "ba3420cd",
   "metadata": {
    "execution": {
     "iopub.execute_input": "2025-06-29T05:22:31.443785Z",
     "iopub.status.busy": "2025-06-29T05:22:31.443648Z",
     "iopub.status.idle": "2025-06-29T05:22:31.447797Z",
     "shell.execute_reply": "2025-06-29T05:22:31.447096Z"
    }
   },
   "outputs": [],
   "source": [
    "def GenerateWorkerDep(full_names : list) -> list:\n",
    "    acc = []\n",
    "\n",
    "    for name in full_names:\n",
    "        acc.append({\n",
    "            \"full_name\" : name,\n",
    "            \"department\" : random.choice(departments)\n",
    "        })\n",
    "\n",
    "    return acc"
   ]
  },
  {
   "cell_type": "markdown",
   "id": "4fa3446d",
   "metadata": {},
   "source": [
    "## \"Сборка\" датасета"
   ]
  },
  {
   "cell_type": "code",
   "execution_count": 12,
   "id": "1c7253a8",
   "metadata": {
    "execution": {
     "iopub.execute_input": "2025-06-29T05:22:31.449637Z",
     "iopub.status.busy": "2025-06-29T05:22:31.449468Z",
     "iopub.status.idle": "2025-06-29T05:22:31.467727Z",
     "shell.execute_reply": "2025-06-29T05:22:31.467127Z"
    }
   },
   "outputs": [],
   "source": [
    "rp_52, rp_22 = GenerateReportingPeriods()\n",
    "emergency = GenerateEmergency([i for i in rp_22 if i in rp_52])\n",
    "\n",
    "data = GenerateData(rp_52, rp_22, emergency)\n",
    "\n",
    "dep = GenerateDepartment()\n",
    "worker_dep = GenerateWorkerDep(full_names_52)\n",
    "\n",
    "df_data = pd.DataFrame(data)\n",
    "df_data = pd.concat([df_data, GenerateErrors(df_data)], ignore_index=True)\n",
    "\n",
    "df_emergency = pd.DataFrame(emergency)\n",
    "\n",
    "df_dep = pd.DataFrame(dep)\n",
    "df_worker_dep = pd.DataFrame(worker_dep)\n",
    "\n",
    "df_data.to_csv(\"data/source/entries_src.csv\")\n",
    "df_emergency.to_csv(\"data/reference/emergency_ref.csv\")\n",
    "df_dep.to_csv(\"data/reference/departments_ref.csv\")\n",
    "df_worker_dep.to_csv(\"data/reference/worker_department_xref.csv\")"
   ]
  },
  {
   "cell_type": "markdown",
   "id": "430f8783",
   "metadata": {},
   "source": [
    "## Количество вхождений различных данных в датасет"
   ]
  },
  {
   "cell_type": "code",
   "execution_count": 13,
   "id": "7ba3b5cd",
   "metadata": {
    "execution": {
     "iopub.execute_input": "2025-06-29T05:22:31.469603Z",
     "iopub.status.busy": "2025-06-29T05:22:31.469448Z",
     "iopub.status.idle": "2025-06-29T05:22:31.473905Z",
     "shell.execute_reply": "2025-06-29T05:22:31.473439Z"
    }
   },
   "outputs": [
    {
     "name": "stdout",
     "output_type": "stream",
     "text": [
      "Кол-во неуспешных входов: 19\n",
      "Кол-во незапланированных входов: 8\n",
      "Кол-во запланированных входов: 21\n",
      "Кол-во ошибок системы: 60\n"
     ]
    }
   ],
   "source": [
    "print(f\"Кол-во неуспешных входов: {wrong_enter}\")\n",
    "print(f\"Кол-во незапланированных входов: {unplanned_enter}\")\n",
    "print(f\"Кол-во запланированных входов: {planned_enter}\")\n",
    "print(f\"Кол-во ошибок системы: {errors_amount}\")"
   ]
  }
 ],
 "metadata": {
  "kernelspec": {
   "display_name": "venv",
   "language": "python",
   "name": "python3"
  },
  "language_info": {
   "codemirror_mode": {
    "name": "ipython",
    "version": 3
   },
   "file_extension": ".py",
   "mimetype": "text/x-python",
   "name": "python",
   "nbconvert_exporter": "python",
   "pygments_lexer": "ipython3",
   "version": "3.12.3"
  }
 },
 "nbformat": 4,
 "nbformat_minor": 5
}
