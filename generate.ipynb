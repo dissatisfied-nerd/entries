{
 "cells": [
  {
   "cell_type": "markdown",
   "id": "eb105913",
   "metadata": {},
   "source": [
    "### Импорт библиотек"
   ]
  },
  {
   "cell_type": "code",
   "execution_count": 62,
   "id": "dbdd20b6",
   "metadata": {},
   "outputs": [],
   "source": [
    "import random\n",
    "import pandas as pd\n",
    "from datetime import datetime, timedelta"
   ]
  },
  {
   "cell_type": "markdown",
   "id": "73738254",
   "metadata": {},
   "source": [
    "### Множества входных данных"
   ]
  },
  {
   "cell_type": "code",
   "execution_count": 63,
   "id": "eb9063a3",
   "metadata": {},
   "outputs": [],
   "source": [
    "full_names = [\n",
    "    \"Семёнов Дмитрий Иванович\",\n",
    "    \"Головин Сергей Вальерьевич\",\n",
    "    \"Путилов Андрей Маркович\",\n",
    "    \"Лапухов Алексей Дмитриевич\",\n",
    "    \"Дружинин Георгий Михайлович\"\n",
    "    ]\n",
    "\n",
    "status = [\n",
    "    \"Вход\",\n",
    "    \"Выход\",\n",
    "    \"Доступ запрещён\"\n",
    "]"
   ]
  },
  {
   "cell_type": "markdown",
   "id": "7bf69ac3",
   "metadata": {},
   "source": [
    "### Формирование отчётного периода"
   ]
  },
  {
   "cell_type": "code",
   "execution_count": 64,
   "id": "caee51b7",
   "metadata": {},
   "outputs": [],
   "source": [
    "def GenerateReportingPeriod():\n",
    "    start_date = datetime(\n",
    "        year=2006,\n",
    "        month=4,\n",
    "        day=1,\n",
    "        hour=8,\n",
    "        minute=0,\n",
    "        second=0\n",
    "    )\n",
    "\n",
    "    stop_date = start_date.replace(month=7)\n",
    "    date_range = (stop_date - start_date).days\n",
    "    \n",
    "    return [start_date + timedelta(days=day) \n",
    "            for day in range(date_range) \n",
    "            if (start_date + timedelta(days=day)).weekday() not in [5, 6]\n",
    "    ]"
   ]
  },
  {
   "cell_type": "markdown",
   "id": "8c22a00f",
   "metadata": {},
   "source": [
    "### Генерация сырых данных\n",
    "\n",
    "Кратко опишем генерацию времени входа и времени выхода. Пусть нормой считается начало дня в 9:00, а конец дня в 18:00, тогда время рабочего дня $t_{норм} = 9$.\n",
    "\n",
    "Без псевдослучайного смещения имеем нормы входа и выхода \n",
    "$$\n",
    "t_{входа} = 8 \\\\\n",
    "t_{выхода} = 8 + t_{норм}\n",
    "$$\n",
    "\n",
    "Вводим псевдослучайное смещение, определяемое следующим образом:\n",
    "$$\n",
    "0 \\leq t_{смещения} \\leq 9059 \\text{ (в секундах)}\n",
    "$$\n",
    "\n",
    "Таким образом, наименьшее смещение - 0 секунд, наибольшее смещение - 2 часа 30 минут и 59 секунд.\n",
    "Получаем следующие нормы входа и выхода:\n",
    "$$\n",
    "t_{входа} = 8 + t_{смещения} \\\\\n",
    "t_{выхода} = 8 + t_{норм} + t_{смещения}\n",
    "$$\n",
    "\n",
    "Соответственно, имеем следующие возможные значения в формате ЧЧ:ММ:СС:\n",
    "$$\n",
    "min(t_{входа}) = 08:00:00, \\, max(t_{входа}) = 10:30:59 \\\\\n",
    "min(t_{выхода}) = 17:00:00, \\, max(t_{выхода}) = 19:30:59\n",
    "$$\n",
    "\n",
    "Опишем некоторые интервалы для точности их классификации. Пусть норма начала дня - $09:00:00$, норма окончания дня - $18:00:00$ и $\\exists \\, t_{входа}^{i}$ и $t_{выхода}^{i}$, тогда\n",
    "$$\n",
    "08:00:00 \\leq t_{входа}^{i} \\leq 09:00:00 \\text{ - норма}, \\\\\n",
    "09:00:00 < t_{входа}^{i} \\leq 10:30:59 \\text{ - опоздание}, \\\\\n",
    "17:00:00 \\leq t_{выхода}^{i} < 18:00:00 \\text{ - ранний выход}, \\\\\n",
    "18:00:00 \\leq t_{выхода}^{i} \\leq 19:30:59 \\text{ - норма}. \n",
    "$$\n",
    "\n",
    "Примечание: результирующая структура не содержит аномалий, описанных в пунктах тз после слов \"следует учесть\"."
   ]
  },
  {
   "cell_type": "code",
   "execution_count": 65,
   "id": "1b9c22c7",
   "metadata": {},
   "outputs": [],
   "source": [
    "def GetProbability() -> bool:\n",
    "    if random.randint(0, 99) < 4:\n",
    "        return True\n",
    "\n",
    "    return False\n",
    "\n",
    "def GetTimeOffset(hours_max_offset=2, minutes_max_offset=30, seconds_max_offset=59) -> timedelta:\n",
    "    return timedelta(\n",
    "            hours=random.randint(0, hours_max_offset),\n",
    "            minutes=random.randint(0, minutes_max_offset),\n",
    "            seconds=random.randint(0, seconds_max_offset)\n",
    "        )\n",
    "\n",
    "def GenerateData(reporting_period : list) -> pd.DataFrame:\n",
    "    acc = []\n",
    "\n",
    "    for current_date in reporting_period:\n",
    "        for name in full_names:\n",
    "            acc.append({\n",
    "                \"full_name\" : name,\n",
    "                \"datetime\" : current_date + GetTimeOffset(),\n",
    "                \"status\" : status[0]\n",
    "            })\n",
    "\n",
    "            if GetProbability():\n",
    "                working_hours = timedelta(hours=18)\n",
    "            else:\n",
    "                working_hours = timedelta(hours=9)\n",
    "\n",
    "            acc.append({\n",
    "                \"full_name\" : name,\n",
    "                \"datetime\" : current_date + working_hours + GetTimeOffset(),\n",
    "                \"status\" : status[1]\n",
    "            })\n",
    "\n",
    "    return pd.DataFrame(acc)"
   ]
  },
  {
   "cell_type": "markdown",
   "id": "a42b201e",
   "metadata": {},
   "source": [
    "## Аномализация данных\n",
    "\n",
    "В данном разделе описанны функции, совершающие \"иньекции\" в полученный на предыдущем этапе датасет. Под \"иньекцией\" подразумевается вставка аномальных данных или замена сырых данных на аномальные. Для каждого типа аномалии реализована отдельная функция. "
   ]
  },
  {
   "cell_type": "markdown",
   "id": "799ce1be",
   "metadata": {},
   "source": [
    "### Ошибки системы\n",
    "Рассматриваются случаи, описанные в тз, описываемые как внешняя причина для создания повторной записи с тем же статусом. В данных это отображается копией записи с временной разницей по сравнению с оригиналом в несколько секнуд. Будем считать, что физическая система турникетов допускает такую ситуацию в 5% случаев."
   ]
  },
  {
   "cell_type": "code",
   "execution_count": null,
   "id": "38350b82",
   "metadata": {},
   "outputs": [],
   "source": [
    "def GenerateErrors(data : pd.DataFrame) -> pd.DataFrame:\n",
    "    errors_amount = round(len(data) * 0.01)\n",
    "    samples = data.sample(errors_amount)\n",
    "    copies = samples.copy()\n",
    "\n",
    "    copies[\"datetime\"] += GetTimeOffset(hours_max_offset=0, minutes_max_offset=0, seconds_max_offset=32)\n",
    "\n",
    "    return copies"
   ]
  },
  {
   "cell_type": "markdown",
   "id": "aaaf3b0c",
   "metadata": {},
   "source": [
    "### Покидание офиса не через турникет\n",
    "\n",
    "Предполагаемая ситуация - покидание здания через запасный выход, минуя турникет. Исходя из описанных в тз ситуаций следует, что возвращение в здание происходит через турникет, т.е. существует запись о входе - непосредственных приход на работу, далее, опуская случаи, подразумевающие пару записей вход-выход, существует непарная запись о входе, как раз предполагающая описываемую в данном разделе ситуацию."
   ]
  },
  {
   "cell_type": "code",
   "execution_count": 67,
   "id": "3135cd1f",
   "metadata": {},
   "outputs": [],
   "source": [
    "def GenerateEmergency(reporting_period : list) -> list:\n",
    "    acc = []\n",
    "\n",
    "    dates = random.sample(reporting_period, 4)\n",
    "\n",
    "    for current_date in dates:\n",
    "        emergency_date = current_date.replace(hour=15, minute=00, second=0)\n",
    "\n",
    "        for name in full_names:\n",
    "            acc.append({\n",
    "                \"full_name\" : name,\n",
    "                \"datetime\" : emergency_date + GetTimeOffset(hours_max_offset=0, minutes_max_offset=10, seconds_max_offset=59),\n",
    "                \"status\" : status[0]\n",
    "            })\n",
    "\n",
    "    return acc"
   ]
  },
  {
   "cell_type": "markdown",
   "id": "ce8c72d0",
   "metadata": {},
   "source": [
    "### Перерывы на обед"
   ]
  },
  {
   "cell_type": "code",
   "execution_count": 68,
   "id": "516b0f58",
   "metadata": {},
   "outputs": [],
   "source": [
    "def GenerateDinner(reporting_period : list) -> list:\n",
    "    dinner_names = full_names[:2]\n",
    "    acc = []\n",
    "\n",
    "    for current_date in reporting_period:\n",
    "        dinner_date = current_date.replace(hour=12, minute=45, second=0)\n",
    "\n",
    "        for name in dinner_names:\n",
    "            acc.append({\n",
    "                \"full_name\" : name,\n",
    "                \"datetime\" : dinner_date + GetTimeOffset(hours_max_offset=0, minutes_max_offset=30, seconds_max_offset=59),\n",
    "                \"status\" : status[0]\n",
    "            })\n",
    "\n",
    "            acc.append({\n",
    "                \"full_name\" : name,\n",
    "                \"datetime\" : dinner_date + timedelta(minutes=30) + GetTimeOffset(hours_max_offset=0, minutes_max_offset=30, seconds_max_offset=59),\n",
    "                \"status\" : status[1]\n",
    "            })\n",
    "\n",
    "    return acc"
   ]
  },
  {
   "cell_type": "markdown",
   "id": "747f4900",
   "metadata": {},
   "source": [
    "### \"Доступ запрещён\"\n",
    "Для полноты раскрытия этого статуса нужно рассмотреть две ситуации:\n",
    "1. Ожидаемый статус - \"Вход\"\n",
    "2. Ожидаемый статус - \"Выход\"\n",
    "\n",
    "В первом случае вход невозможен, предположим, что это считается нормой, например, забывчивый сотрудник попытался прийти в выходной за свой счёт на работу, тогда для отображения такого случая в данных необходимо заменить запись о входе этого сотрудника, заменить её статус на \"Доступ запрещён\", а другие записи, относящиеся к этим же дате и сотруднику, удалить.\n",
    "\n",
    "Во втором случае такой статус расценивается как \"Выход\", тогда для отображения такого случая достаточно заменить статус записи \"Выход\" на \"Доступ запрещён\"."
   ]
  },
  {
   "cell_type": "code",
   "execution_count": 69,
   "id": "7121fcc4",
   "metadata": {},
   "outputs": [],
   "source": [
    "def FindRestrictedEnter(data : pd.DataFrame) -> tuple:\n",
    "    restricted_amount = round(len(data) * 0.02)\n",
    "    \n",
    "    entries = data[data[\"status\"] == status[0]]\n",
    "    samples = entries.sample(restricted_amount)\n",
    "\n",
    "    left = data.assign(_idx=data.index, date_key=data[\"datetime\"].dt.date)\n",
    "    right = samples.assign(date_key=samples[\"datetime\"].dt.date)\n",
    "    merged = left.merge(right[[\"full_name\", \"date_key\"]], on=[\"full_name\", \"date_key\"], how=\"inner\")\n",
    "\n",
    "    drop_idx = pd.Index(merged[\"_idx\"]).difference(samples.index).to_list()\n",
    "    update_idx = samples.index.to_list()\n",
    "\n",
    "    return (drop_idx, update_idx)\n",
    "\n",
    "def FindRestrictedExit(data : pd.DataFrame) -> list:\n",
    "    restricted_amount = round(len(data) * 0.02)\n",
    "\n",
    "    exits = data[data[\"status\"] == status[1]]\n",
    "    samples = exits.sample(restricted_amount)\n",
    "\n",
    "    return samples.index.to_list()"
   ]
  },
  {
   "cell_type": "markdown",
   "id": "f81a42f2",
   "metadata": {},
   "source": [
    "### Выход ночью\n",
    "На этапе генерации базового датасета были учтены ночные выходы, однако, для полноты представляемой картины попробуем воспроизвести ситуацию описанную в тз - выход, не попадающий в отчётный период. Для этого просто найдём последнюю запись о выходе и удалим её."
   ]
  },
  {
   "cell_type": "code",
   "execution_count": 70,
   "id": "94ca7b15",
   "metadata": {},
   "outputs": [],
   "source": [
    "def FindLastExit(data : pd.DataFrame) -> int | str:\n",
    "    exits = data[data[\"status\"] == status[1]]\n",
    "    latest_idx = exits[\"datetime\"].idxmax()\n",
    "\n",
    "    return latest_idx"
   ]
  },
  {
   "cell_type": "markdown",
   "id": "4fa3446d",
   "metadata": {},
   "source": [
    "## \"Сборка\" датасета"
   ]
  },
  {
   "cell_type": "code",
   "execution_count": null,
   "id": "1c7253a8",
   "metadata": {},
   "outputs": [],
   "source": [
    "reporting_period = GenerateReportingPeriod()\n",
    "data = GenerateData(reporting_period)\n",
    "\n",
    "print(f'Количество дней в отчётном периоде: {len(reporting_period)}')\n",
    "print(f'Количество вхождений в базовый датасет: {len(data)}')\n",
    "\n",
    "errors = GenerateErrors(data)\n",
    "dinner = GenerateDinner(reporting_period)\n",
    "emergency = GenerateEmergency(reporting_period)\n",
    "\n",
    "drop_enter_idx, update_enter_idx = FindRestrictedEnter(data)\n",
    "data.drop(drop_enter_idx, inplace=True)\n",
    "data.loc[update_enter_idx, \"status\"] = status[2]\n",
    "\n",
    "update_exit_idx = FindRestrictedExit(data)\n",
    "data.loc[update_exit_idx, \"status\"] = status[2]\n",
    "\n",
    "drop_latest_idx = FindLastExit(data)\n",
    "data.drop(drop_latest_idx, inplace=True)\n",
    "\n",
    "print(f'Количество вхождений в датасет, учитывающий случаи \"Доступ запрещён\" и \"Выход ночью\": {len(data)}')\n",
    "\n",
    "data = pd.concat([data, errors, pd.DataFrame(dinner), pd.DataFrame(emergency)], ignore_index=True)\n",
    "\n",
    "print(f'Количество вхождений в датасет, учитывающий все рассматриваемые случаи: {len(data)}')\n",
    "\n",
    "data.to_csv(\"entries.csv\")"
   ]
  },
  {
   "cell_type": "markdown",
   "id": "dc32305c",
   "metadata": {},
   "source": [
    "### Проверка датасета"
   ]
  },
  {
   "cell_type": "code",
   "execution_count": null,
   "id": "c66b5029",
   "metadata": {},
   "outputs": [],
   "source": [
    "df = pd.read_csv(\"entries.csv\")\n",
    "df[\"datetime\"] = pd.to_datetime(df[\"datetime\"], errors=\"coerce\")\n",
    "nat_amount = df[\"datetime\"].isna().sum() \n",
    "print(f\"Количество вхождений в датасет : {len(df)}\")\n",
    "print(f\"Количество \\\"битых\\\" дат: {nat_amount}\")\n",
    "\n",
    "names = df[\"full_name\"].drop_duplicates()\n",
    "print(f\"Количество вхождений сотрудников в датасет {len(names)}\")\n",
    "\n",
    "night_workers = df[df[\"datetime\"].dt.hour < 8]\n",
    "print(f\"Количество выходов ночью : {len(night_workers)}\")\n",
    "\n",
    "left = df.copy()\n",
    "right = df.copy()\n",
    "\n",
    "left[\"key\"] = 1\n",
    "right[\"key\"] = 1\n",
    "\n",
    "merged = left.merge(right, on=\"key\", suffixes=(\"_l\", \"_r\"))\n",
    "merged = merged[merged[\"datetime_l\"] < merged[\"datetime_r\"]]\n",
    "\n",
    "merged[\"delta\"] = abs(merged[\"datetime_l\"] - merged[\"datetime_r\"])\n",
    "errors_count = merged[(merged[\"delta\"] <= pd.Timedelta(seconds=32)) \n",
    "                      & (merged[\"status_l\"] == merged[\"status_r\"])\n",
    "                    ]\n",
    "\n",
    "print(len(errors_count), errors_count[\"datetime_l\"])"
   ]
  },
  {
   "cell_type": "code",
   "execution_count": null,
   "id": "89129c98",
   "metadata": {},
   "outputs": [],
   "source": []
  }
 ],
 "metadata": {
  "kernelspec": {
   "display_name": "venv",
   "language": "python",
   "name": "python3"
  },
  "language_info": {
   "codemirror_mode": {
    "name": "ipython",
    "version": 3
   },
   "file_extension": ".py",
   "mimetype": "text/x-python",
   "name": "python",
   "nbconvert_exporter": "python",
   "pygments_lexer": "ipython3",
   "version": "3.12.3"
  }
 },
 "nbformat": 4,
 "nbformat_minor": 5
}
