{
 "cells": [
  {
   "cell_type": "markdown",
   "id": "c8e1238d",
   "metadata": {},
   "source": [
    "# Генерация входного датасета"
   ]
  },
  {
   "cell_type": "markdown",
   "id": "eb105913",
   "metadata": {},
   "source": [
    "## Импорт библиотек"
   ]
  },
  {
   "cell_type": "code",
   "execution_count": 582,
   "id": "dbdd20b6",
   "metadata": {},
   "outputs": [],
   "source": [
    "import random\n",
    "import pandas as pd\n",
    "from datetime import datetime, timedelta"
   ]
  },
  {
   "cell_type": "markdown",
   "id": "b4531f99",
   "metadata": {},
   "source": [
    "## Множества входных данных"
   ]
  },
  {
   "cell_type": "code",
   "execution_count": 583,
   "id": "eb9063a3",
   "metadata": {},
   "outputs": [],
   "source": [
    "full_names_52 = [\n",
    "    \"Семёнов Дмитрий Иванович\",\n",
    "    \"Головин Сергей Вальерьевич\",\n",
    "    \"Путилов Андрей Маркович\",\n",
    "    \"Лапухов Алексей Дмитриевич\",\n",
    "    \"Дружинин Георгий Михайлович\",    \n",
    "]\n",
    "\n",
    "full_names_22 = [\n",
    "    \"Работаев Даниил Игоревич\",\n",
    "    \"Работаева Ирина Генриховна\"\n",
    "]\n",
    "\n",
    "full_names_dinner = [\n",
    "    \"Семёнов Дмитрий Иванович\",\n",
    "    \"Головин Сергей Вальерьевич\",\n",
    "    \"Работаев Даниил Игоревич\",\n",
    "    \"Работаева Ирина Генриховна\"\n",
    "]\n",
    "\n",
    "status = [\n",
    "    \"Вход\",\n",
    "    \"Выход\",\n",
    "    \"Доступ запрещён\"\n",
    "]\n",
    "\n",
    "emergency_events = [\n",
    "    \"Учебная пожарная эвакуация\",\n",
    "    \"Проверка систем голосового оповещения и сигнализации\",\n",
    "    \"Учения по антитеррористической безопасности\"\n",
    "]"
   ]
  },
  {
   "cell_type": "markdown",
   "id": "7bf69ac3",
   "metadata": {},
   "source": [
    "## Формирование отчётного периода"
   ]
  },
  {
   "cell_type": "code",
   "execution_count": 584,
   "id": "caee51b7",
   "metadata": {},
   "outputs": [],
   "source": [
    "def GenerateReportingPeriods() -> tuple:\n",
    "    start_date = datetime(\n",
    "        year=2006,\n",
    "        month=4,\n",
    "        day=1,\n",
    "        hour=8,\n",
    "        minute=0,\n",
    "        second=0\n",
    "    )\n",
    "\n",
    "    stop_date = start_date.replace(month=7)\n",
    "    date_range = (stop_date - start_date).days\n",
    "    \n",
    "    return (\n",
    "        [start_date + timedelta(days=day) \n",
    "            for day in range(date_range) \n",
    "            if (start_date + timedelta(days=day)).weekday() not in [5, 6]],\n",
    "        [start_date + timedelta(days=day)\n",
    "            for day in range(date_range)\n",
    "            if (day % 4) < 2]\n",
    "    )"
   ]
  },
  {
   "cell_type": "markdown",
   "id": "a318c9bc",
   "metadata": {},
   "source": [
    "## Утилиты для генерации"
   ]
  },
  {
   "cell_type": "code",
   "execution_count": 585,
   "id": "500541e0",
   "metadata": {},
   "outputs": [],
   "source": [
    "def GetProbability():\n",
    "    return random.randint(0, 99) < 4\n",
    "\n",
    "def GetTimeOffset(hours_max_offset, minutes_max_offset, seconds_max_offset) -> timedelta:\n",
    "    return timedelta(\n",
    "            hours=random.randint(0, hours_max_offset),\n",
    "            minutes=random.randint(0, minutes_max_offset),\n",
    "            seconds=random.randint(0, seconds_max_offset)\n",
    "        ) "
   ]
  },
  {
   "cell_type": "markdown",
   "id": "f532d10f",
   "metadata": {},
   "source": [
    "### Генерация множества запланированных событий, подразумевающих выход не через турникет."
   ]
  },
  {
   "cell_type": "code",
   "execution_count": 586,
   "id": "ac8df355",
   "metadata": {},
   "outputs": [],
   "source": [
    "def GenerateEmergency(reporting_period : list) -> list:\n",
    "    acc = []\n",
    "    \n",
    "    emergency_amounts = round(len(reporting_period) * 0.1)\n",
    "    samples = random.sample(reporting_period, emergency_amounts)\n",
    "\n",
    "    for current_date in samples:\n",
    "        acc.append({\n",
    "            \"name\" : random.choice(emergency_events),\n",
    "            \"event_dt\" : current_date.replace(hour=11) + GetTimeOffset(2, 0, 0),\n",
    "            \"duration\" : random.choice([10, 15, 20, 25, 30])  \n",
    "        })\n",
    "\n",
    "    return acc"
   ]
  },
  {
   "cell_type": "markdown",
   "id": "0cd16eec",
   "metadata": {},
   "source": [
    "## Внесение разнообразия в данные"
   ]
  },
  {
   "cell_type": "code",
   "execution_count": 587,
   "id": "dbf81fef",
   "metadata": {},
   "outputs": [],
   "source": [
    "def DiversifyEnter(name : str, current_dt : datetime) -> tuple:\n",
    "    acc = []\n",
    "\n",
    "    last_dt = current_dt + GetTimeOffset(2, 30, 59)\n",
    "\n",
    "    #С вероятностью 5% сотрудник попытался войти слишком рано или через неправильный турникет\n",
    "    if GetProbability():\n",
    "        acc.append({\n",
    "            \"full_name\" : name,\n",
    "            \"event_dt\" : last_dt - GetTimeOffset(0, 9, 59),\n",
    "            \"status\" : status[2]\n",
    "        })\n",
    "\n",
    "    #Входим\n",
    "    acc.append({\n",
    "        \"full_name\" : name,\n",
    "        \"event_dt\" : last_dt,\n",
    "        \"status\" : status[0]\n",
    "    })\n",
    "\n",
    "    return (acc, last_dt)\n",
    "\n",
    "\n",
    "def DiversifyDay(name : str, last_dt : datetime) -> list:\n",
    "    acc = []\n",
    "\n",
    "    #Добавляем выход и вход тем, кто обедает за пределами офиса\n",
    "    if name in full_names_dinner:\n",
    "        last_dt += timedelta(hours=4) + GetTimeOffset(0, 30, 59)\n",
    "\n",
    "        acc.append({\n",
    "            \"full_name\" : name,\n",
    "            \"event_dt\" : last_dt,\n",
    "            \"status\" : status[1]\n",
    "        })\n",
    "\n",
    "        last_dt += timedelta(minutes=30) + GetTimeOffset(0, 30, 59)\n",
    "        \n",
    "        acc.append({\n",
    "            \"full_name\" : name,\n",
    "            \"event_dt\" : last_dt,\n",
    "            \"status\" : status[0]\n",
    "        })\n",
    "    \n",
    "    #С вероятностью 0.05 сотрудник покинул офис не через турникет и это не было запланированно\n",
    "    if GetProbability():\n",
    "        last_dt += timedelta(minutes=1) + GetTimeOffset(0, 20, 59)\n",
    "\n",
    "        acc.append({\n",
    "            \"full_name\" : name,\n",
    "            \"event_dt\" : last_dt,\n",
    "            \"status\" : status[0]\n",
    "        }) \n",
    "        \n",
    "    return acc"
   ]
  },
  {
   "cell_type": "markdown",
   "id": "8c22a00f",
   "metadata": {},
   "source": [
    "## Генерация данных"
   ]
  },
  {
   "cell_type": "code",
   "execution_count": 588,
   "id": "1b9c22c7",
   "metadata": {},
   "outputs": [],
   "source": [
    "def GenerateData(reporting_period_52 : list, reporting_period_22 : list, emergency : list) -> list:\n",
    "    acc = []\n",
    "\n",
    "    #График 5/2\n",
    "    for current_date in reporting_period_52:\n",
    "        for name in full_names_52:\n",
    "            #Вносим разнообразие в данные\n",
    "            tmp, last_dt = DiversifyEnter(name, current_date)\n",
    "            acc += DiversifyDay(name, last_dt)\n",
    "            acc += tmp\n",
    "\n",
    "            #С вероятностью 0.05 сотрудник остаётся \"на всю ночь\", присваиваем статус \"Доступ запрещён\"\n",
    "            if GetProbability():\n",
    "                working_hours = timedelta(hours=20)\n",
    "                exit_status = status[2]\n",
    "            else:\n",
    "                working_hours = timedelta(hours=9)\n",
    "                exit_status = status[1]\n",
    "\n",
    "            #Уходим\n",
    "            acc.append({\n",
    "                \"full_name\" : name,\n",
    "                \"event_dt\" : current_date + working_hours + GetTimeOffset(2, 30, 59),\n",
    "                \"status\" : exit_status\n",
    "            })\n",
    "\n",
    "    #Грфик 2/2\n",
    "    for i in range(0, len(reporting_period_22) - 1, 2):\n",
    "        for name in full_names_22:\n",
    "            first_date = reporting_period_22[i]\n",
    "            second_date = reporting_period_22[i + 1]\n",
    "\n",
    "            #Вносим разнообразие в данные\n",
    "            tmp, last_dt = DiversifyEnter(name, first_date)\n",
    "            acc += DiversifyDay(name, last_dt)\n",
    "            acc += tmp\n",
    "\n",
    "            #В первый день не уходим, второй день начинаем с обеда\n",
    "            last_dt = second_date + GetTimeOffset(2, 30, 59)\n",
    "            acc += DiversifyDay(name, last_dt)\n",
    "\n",
    "            #Уходим во второй день\n",
    "            acc.append({\n",
    "                \"full_name\" : name,\n",
    "                \"event_dt\" : last_dt + timedelta(hours=9) + GetTimeOffset(2, 30, 59),\n",
    "                \"status\" : status[1]\n",
    "            })\n",
    "\n",
    "    #Обрабатываем непарный элемент (отчётный период кончается после первого дня)\n",
    "    if len(reporting_period_22) % 2 != 0:\n",
    "        current_date = reporting_period_22[-1]\n",
    "\n",
    "        for name in full_names_22:\n",
    "            #Вносим разнообразие в данные\n",
    "            tmp, last_dt = DiversifyEnter(name, current_date)\n",
    "            acc += DiversifyDay(name, last_dt)\n",
    "            acc += tmp\n",
    "\n",
    "    #Запланированные учения\n",
    "    for elem in emergency:\n",
    "        for name in full_names_52 + full_names_22:\n",
    "            acc.append({\n",
    "                \"full_name\" : name,\n",
    "                \"event_dt\" : elem[\"event_dt\"] + timedelta(minutes=elem[\"duration\"]) + GetTimeOffset(0, 9, 59),\n",
    "                \"status\" : status[0]\n",
    "            })\n",
    "    return acc"
   ]
  },
  {
   "cell_type": "markdown",
   "id": "b13ee39a",
   "metadata": {},
   "source": [
    "## Добавление ошибок"
   ]
  },
  {
   "cell_type": "code",
   "execution_count": 589,
   "id": "c63a9576",
   "metadata": {},
   "outputs": [],
   "source": [
    "def GenerateErrors(data : pd.DataFrame) -> pd.DataFrame:\n",
    "    errors_amount = round(len(data) * 0.05)\n",
    "    samples = data.sample(errors_amount)\n",
    "    copies = samples.copy()\n",
    "\n",
    "    copies[\"event_dt\"] += GetTimeOffset(0, 0, 59)\n",
    "\n",
    "    return copies"
   ]
  },
  {
   "cell_type": "markdown",
   "id": "4fa3446d",
   "metadata": {},
   "source": [
    "## \"Сборка\" датасета"
   ]
  },
  {
   "cell_type": "code",
   "execution_count": null,
   "id": "1c7253a8",
   "metadata": {},
   "outputs": [],
   "source": [
    "rp_52, rp_22 = GenerateReportingPeriods()\n",
    "emergency = GenerateEmergency([i for i in rp_22 if i in rp_52])\n",
    "\n",
    "data = GenerateData(rp_52, rp_22, emergency)\n",
    "\n",
    "df_data = pd.DataFrame(data)\n",
    "df_data = pd.concat([df_data, GenerateErrors(df_data)], ignore_index=True)\n",
    "df_emergency = pd.DataFrame(emergency)\n",
    "\n",
    "df_data = df_data.sort_values(by=[\"full_name\", \"event_dt\"])\n",
    "\n",
    "df_data.to_csv(\"data/source/entries_src.csv\")\n",
    "df_emergency.to_csv(\"data/reference/emergency_ref.csv\")"
   ]
  },
  {
   "cell_type": "code",
   "execution_count": null,
   "id": "b9cd9456",
   "metadata": {},
   "outputs": [],
   "source": []
  }
 ],
 "metadata": {
  "kernelspec": {
   "display_name": "venv",
   "language": "python",
   "name": "python3"
  },
  "language_info": {
   "codemirror_mode": {
    "name": "ipython",
    "version": 3
   },
   "file_extension": ".py",
   "mimetype": "text/x-python",
   "name": "python",
   "nbconvert_exporter": "python",
   "pygments_lexer": "ipython3",
   "version": "3.12.3"
  }
 },
 "nbformat": 4,
 "nbformat_minor": 5
}
