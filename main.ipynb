{
 "cells": [
  {
   "cell_type": "markdown",
   "id": "eb105913",
   "metadata": {},
   "source": [
    "### Импорт библиотек"
   ]
  },
  {
   "cell_type": "code",
   "execution_count": null,
   "id": "dbdd20b6",
   "metadata": {},
   "outputs": [],
   "source": [
    "import random"
   ]
  },
  {
   "cell_type": "markdown",
   "id": "8c22a00f",
   "metadata": {},
   "source": [
    "### Генерация сырых данных"
   ]
  },
  {
   "cell_type": "code",
   "execution_count": null,
   "id": "1b9c22c7",
   "metadata": {},
   "outputs": [
    {
     "name": "stdout",
     "output_type": "stream",
     "text": [
      "['Семёнов Дмитрий Иванович', 'Головин Сергей Вальерьевич', 'Путилов Андрей Маркович', 'Лапухов Алексей Дмитриевич', 'Дружинин Георгий Михайлович']\n"
     ]
    }
   ],
   "source": [
    "full_names_gen = [\n",
    "    \"Семёнов Дмитрий Иванович\",\n",
    "    \"Головин Сергей Вальерьевич\",\n",
    "    \"Путилов Андрей Маркович\",\n",
    "    \"Лапухов Алексей Дмитриевич\",\n",
    "    \"Дружинин Георгий Михайлович\"\n",
    "]\n",
    "\n",
    "status_gen = [\n",
    "    \"\"\n",
    "]\n",
    "\n",
    "print(full_names_gen)"
   ]
  },
  {
   "cell_type": "code",
   "execution_count": null,
   "id": "516b0f58",
   "metadata": {},
   "outputs": [],
   "source": []
  }
 ],
 "metadata": {
  "kernelspec": {
   "display_name": "venv",
   "language": "python",
   "name": "python3"
  },
  "language_info": {
   "codemirror_mode": {
    "name": "ipython",
    "version": 3
   },
   "file_extension": ".py",
   "mimetype": "text/x-python",
   "name": "python",
   "nbconvert_exporter": "python",
   "pygments_lexer": "ipython3",
   "version": "3.12.3"
  }
 },
 "nbformat": 4,
 "nbformat_minor": 5
}
