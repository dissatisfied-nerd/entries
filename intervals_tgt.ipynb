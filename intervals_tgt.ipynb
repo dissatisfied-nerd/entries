{
 "cells": [
  {
   "cell_type": "markdown",
   "id": "21d873f7",
   "metadata": {},
   "source": [
    "# Излечение, преобразование, загрузка"
   ]
  },
  {
   "cell_type": "markdown",
   "id": "97fc3b8e",
   "metadata": {},
   "source": [
    "## Импортируем необходимые модули"
   ]
  },
  {
   "cell_type": "code",
   "execution_count": 10,
   "id": "04c9abb5",
   "metadata": {
    "execution": {
     "iopub.execute_input": "2025-06-29T05:22:36.916904Z",
     "iopub.status.busy": "2025-06-29T05:22:36.916726Z",
     "iopub.status.idle": "2025-06-29T05:22:37.334791Z",
     "shell.execute_reply": "2025-06-29T05:22:37.334113Z"
    }
   },
   "outputs": [],
   "source": [
    "import pandas as pd\n",
    "from sqlalchemy import create_engine"
   ]
  },
  {
   "cell_type": "markdown",
   "id": "ea9c3a57",
   "metadata": {},
   "source": [
    "## Настраиваем подключение к БД"
   ]
  },
  {
   "cell_type": "code",
   "execution_count": 11,
   "id": "ac81e4c5",
   "metadata": {
    "execution": {
     "iopub.execute_input": "2025-06-29T05:22:37.337259Z",
     "iopub.status.busy": "2025-06-29T05:22:37.337038Z",
     "iopub.status.idle": "2025-06-29T05:22:37.382139Z",
     "shell.execute_reply": "2025-06-29T05:22:37.381576Z"
    }
   },
   "outputs": [],
   "source": [
    "user = \"entries_user\"\n",
    "password = \"entries_password\"\n",
    "host = \"localhost\"\n",
    "port = \"5432\"\n",
    "database = \"entries_db\"\n",
    "\n",
    "engine = create_engine(f\"postgresql://{user}:{password}@{host}:{port}/{database}\")"
   ]
  },
  {
   "cell_type": "markdown",
   "id": "e2b3261e",
   "metadata": {},
   "source": [
    "## intervals_tgt\n",
    "\n",
    "Читаем сырые данные и справочную таблицу в датафреймы, обрабатывать данные будем в сгруппированном по full_name и отсортированном по event_dt виде, ввиду чего при рассмотрении последовательных пар записей гарантируется упорядоченность."
   ]
  },
  {
   "cell_type": "code",
   "execution_count": 12,
   "id": "388215d8",
   "metadata": {
    "execution": {
     "iopub.execute_input": "2025-06-29T05:22:37.384432Z",
     "iopub.status.busy": "2025-06-29T05:22:37.384255Z",
     "iopub.status.idle": "2025-06-29T05:22:37.415186Z",
     "shell.execute_reply": "2025-06-29T05:22:37.414578Z"
    }
   },
   "outputs": [],
   "source": [
    "df_data = pd.read_sql(\"SELECT * FROM entries_src;\", engine, index_col=\"id\")\n",
    "df_data[\"event_dt\"] = pd.to_datetime(df_data[\"event_dt\"])\n",
    "\n",
    "df_emergency = pd.read_sql(\"SELECT * FROM emergency_ref\", engine, index_col=\"id\")\n",
    "df_emergency[\"event_dt\"] = pd.to_datetime(df_emergency[\"event_dt\"])\n",
    "df_emergency[\"end_dt\"] = df_emergency[\"event_dt\"] + pd.to_timedelta(df_emergency[\"duration\"], unit=\"m\") + pd.Timedelta(minutes=10)"
   ]
  },
  {
   "cell_type": "markdown",
   "id": "075bbf98",
   "metadata": {},
   "source": [
    "### Очистка от шума\n",
    "\n",
    "Очищаем данные - убираем дубликаты записей (один и тот же статус, время отличается меньше чем на минуту). После очистки данных возможны следующие пары последовательных статусов:\n",
    "- **Вход - Выход** - целевой интервал\n",
    "- **Выход - Вход** - интервал, в который сотрудник не находится на рабочем месте\n",
    "- **Выход - Доступ запрещён** - аналогично предыдущему пункту, но при начале следующего интервала была попытка неуспешного входа\n",
    "- **Доступ запрещён - Вход** - Неудачная и удачная попытки входа или вход после интервала, завершившегося статусом **Доступ запрещён**\n",
    "- **Вход - Доступ запрещён** - Интервал, окончание которого - выход со статусом **Доступ запрещён**\n",
    "- **Вход - Вход** - Запись о входе после покидания офиса не через турникет (Два случая: запланированно или нет)\n",
    "- **Доступ запрещён - Доступ запрещён** - интервал, в который сотрудник не находится на рабочем месте, но предыдущий действительный интервал закончился выходом со статусом **Доступ запрещён**, а следующий начинается с попытки неуспешного входа"
   ]
  },
  {
   "cell_type": "code",
   "execution_count": 13,
   "id": "fbcd3b5d",
   "metadata": {
    "execution": {
     "iopub.execute_input": "2025-06-29T05:22:37.417434Z",
     "iopub.status.busy": "2025-06-29T05:22:37.417264Z",
     "iopub.status.idle": "2025-06-29T05:22:37.430114Z",
     "shell.execute_reply": "2025-06-29T05:22:37.429672Z"
    }
   },
   "outputs": [],
   "source": [
    "to_drop = []\n",
    "\n",
    "for name, group in df_data.groupby(\"full_name\"):\n",
    "    sorted_group = group.sort_values(by=\"event_dt\")\n",
    "    rows = list(sorted_group.itertuples(index=True))\n",
    "\n",
    "    for row_i, row_j in zip(rows, rows[1:]):\n",
    "        if (row_i.status == row_j.status) and (row_j.event_dt - row_i.event_dt <= pd.Timedelta(seconds=60)):\n",
    "            to_drop.append(row_i.Index)\n",
    "\n",
    "df_data.drop(to_drop, inplace=True)"
   ]
  },
  {
   "cell_type": "markdown",
   "id": "84eb5337",
   "metadata": {},
   "source": [
    "### Пары **Вход - Вход** \n",
    "\n",
    "Рассмотрим пару **Вход - Вход**, в обоих случаях первая запись будет валидным началом интервала, для определения второй записи обратимся к справочной таблице **emergency_ref** - если в справочной таблице существует запись о запланированном мероприятии и для времени второй записи выполняется неравенство \n",
    "$$event\\_dt^{ref} < event\\_dt^{src} \\leq event\\_dt^{ref} + duration^{ref} + 10 (min),$$ \n",
    "где 10 минут - учёт очередей на КПП после проведения мероприятия, то мы добавляем запись о выходе, время которой совпадает с временем начала запланированного мероприятия, в противном случае вторую запись о входе удаляем."
   ]
  },
  {
   "cell_type": "code",
   "execution_count": 14,
   "id": "8684955f",
   "metadata": {
    "execution": {
     "iopub.execute_input": "2025-06-29T05:22:37.432078Z",
     "iopub.status.busy": "2025-06-29T05:22:37.431904Z",
     "iopub.status.idle": "2025-06-29T05:22:37.470955Z",
     "shell.execute_reply": "2025-06-29T05:22:37.470330Z"
    }
   },
   "outputs": [],
   "source": [
    "to_drop = []\n",
    "to_push = []\n",
    "\n",
    "for name, group in df_data.groupby(\"full_name\"):\n",
    "    sorted_group = group.sort_values(by=\"event_dt\")\n",
    "    rows = list(sorted_group.itertuples(index=True))\n",
    "\n",
    "    for row_i, row_j in zip(rows, rows[1:]):        \n",
    "        if (row_i.status == row_j.status == \"Вход\"):\n",
    "            mask_i = (df_emergency[\"event_dt\"] < row_j.event_dt) & (row_j.event_dt < df_emergency[\"end_dt\"])\n",
    "            mask = (df_emergency[\"event_dt\"] < row_j.event_dt) & (row_j.event_dt < df_emergency[\"end_dt\"])\n",
    "\n",
    "            if mask.any():\n",
    "                match = df_emergency[mask]\n",
    "\n",
    "                to_push.append({\n",
    "                    \"full_name\" : name,\n",
    "                    \"event_dt\" : match[\"event_dt\"].iloc[0],\n",
    "                    \"status\" : \"Выход\"\n",
    "                })\n",
    "\n",
    "            else:\n",
    "                to_drop.append(row_j.Index)\n",
    "\n",
    "df_data.drop(to_drop, inplace=True)\n",
    "df_data = pd.concat([df_data, pd.DataFrame(to_push)])"
   ]
  },
  {
   "cell_type": "markdown",
   "id": "4e76c847",
   "metadata": {},
   "source": [
    "### Пары **Доступ запрещён - Доступ запрещён**\n",
    "\n",
    "Рассмотрим пару **Доступ запрещён - Доступ запрещён**, после фильтрации на предыдущем шаге гарантируется, что если записи с индексами $i$-я и $i+1$ - **Доступ запрещён**, то заипси с индексами $i-1$ и $i+2$ - **Вход**, тогда первая запись из пары подразумевает выход, а вторая - ошибочный вход. Соответственно, у первой записи заменяем статус на **Выход**, а вторую удаляем как неуспешный вход."
   ]
  },
  {
   "cell_type": "code",
   "execution_count": 15,
   "id": "c0088a66",
   "metadata": {
    "execution": {
     "iopub.execute_input": "2025-06-29T05:22:37.473036Z",
     "iopub.status.busy": "2025-06-29T05:22:37.472858Z",
     "iopub.status.idle": "2025-06-29T05:22:37.485732Z",
     "shell.execute_reply": "2025-06-29T05:22:37.485111Z"
    }
   },
   "outputs": [],
   "source": [
    "to_drop = []\n",
    "to_update = []\n",
    "\n",
    "for name, group in df_data.groupby(\"full_name\"):\n",
    "    sorted_group = group.sort_values(by=\"event_dt\")\n",
    "    rows = list(sorted_group.itertuples(index=True))\n",
    "\n",
    "    for row_i, row_j in zip(rows, rows[1:]):\n",
    "        if (row_i.status == row_j.status == \"Доступ запрещён\"):\n",
    "            to_drop.append(row_j.Index)\n",
    "            to_update.append(row_i.Index)\n",
    "\n",
    "df_data.drop(to_drop, inplace=True)\n",
    "df_data.loc[to_update, \"status\"] = \"Выход\""
   ]
  },
  {
   "cell_type": "markdown",
   "id": "88d574c0",
   "metadata": {},
   "source": [
    "### Статус **Доступ запрещён**\n",
    "\n",
    "Рассмотрим пары, один из элементов которых - **Доступ запрещён**. В первую очередь рассмотрим пару **Выход - Доступ запрещён**, поскольку на первом элементе интервал заканчивается, второй элемент может быть только попыткой неудачного входа, отбросив записи **Доступ запрещён**, получится, что в паре **Доступ запрещён - Вход** появляется однозначность - конец предыдущего интервала и начало нового и значение этой пары становится равным значению пары **Вход - Доступ запрещён**, следовательно все оставшиеся записи **Доступ запрещён** означают выходы и мы можем их заменить."
   ]
  },
  {
   "cell_type": "code",
   "execution_count": 16,
   "id": "9b483415",
   "metadata": {
    "execution": {
     "iopub.execute_input": "2025-06-29T05:22:37.487687Z",
     "iopub.status.busy": "2025-06-29T05:22:37.487520Z",
     "iopub.status.idle": "2025-06-29T05:22:37.500345Z",
     "shell.execute_reply": "2025-06-29T05:22:37.499784Z"
    }
   },
   "outputs": [],
   "source": [
    "to_drop = []\n",
    "\n",
    "for name, group in df_data.groupby(\"full_name\"):\n",
    "    sorted_group = group.sort_values(by=\"event_dt\")\n",
    "    rows = list(sorted_group.itertuples(index=True))\n",
    "\n",
    "    for row_i, row_j in zip(rows, rows[1:]):\n",
    "        if (row_i.status == \"Выход\") and (row_j.status == \"Доступ запрещён\"):\n",
    "            to_drop.append(row_j.Index)\n",
    "\n",
    "df_data.drop(to_drop, inplace=True)\n",
    "\n",
    "df_data.loc[df_data[\"status\"] == \"Доступ запрещён\", \"status\"] = \"Выход\""
   ]
  },
  {
   "cell_type": "markdown",
   "id": "0b59a2df",
   "metadata": {},
   "source": [
    "### Формирование интервалов\n",
    "\n",
    "При формировании рассматриваем уникальные пары, при верной обработке на предыдущих шагх гарантируется, что уникальные пары могут иметь вид только **Вход - Выход**. Для рассмотрения случая окончания отчётного периода до окончания рабочего дня обрабатываем непарные записи о входе и присваиваем им крайние дату и время отчётного периода."
   ]
  },
  {
   "cell_type": "code",
   "execution_count": 17,
   "id": "55b10586",
   "metadata": {
    "execution": {
     "iopub.execute_input": "2025-06-29T05:22:37.502447Z",
     "iopub.status.busy": "2025-06-29T05:22:37.502280Z",
     "iopub.status.idle": "2025-06-29T05:22:37.594917Z",
     "shell.execute_reply": "2025-06-29T05:22:37.594258Z"
    }
   },
   "outputs": [],
   "source": [
    "report_period_end = df_data[\"event_dt\"].max().normalize() + pd.Timedelta(hours=23, minutes=59, seconds=59)\n",
    "\n",
    "to_push = []\n",
    "\n",
    "for name, group in df_data.groupby(\"full_name\"):\n",
    "    sorted_group = group.sort_values(by=\"event_dt\")\n",
    "    n = len(sorted_group)\n",
    "\n",
    "    for i in range(0, n - 1, 2):\n",
    "        row_i = sorted_group.iloc[i]\n",
    "        row_j = sorted_group.iloc[i + 1]\n",
    "\n",
    "        if row_i.status != \"Вход\" or row_j.status != \"Выход\":\n",
    "            print(row_i.status, row_j.status, row_i.event_dt, row_j.event_dt)\n",
    "\n",
    "        to_push.append({\n",
    "            \"full_name\" : row_i.full_name,\n",
    "            \"enter_dt\" : row_i.event_dt,\n",
    "            \"exit_dt\" : row_j.event_dt\n",
    "        })\n",
    "\n",
    "    if n % 2 != 0:\n",
    "        row = sorted_group.iloc[n - 1]\n",
    "        to_push.append({\n",
    "            \"full_name\" : row.full_name,\n",
    "            \"enter_dt\" : row.event_dt,\n",
    "            \"exit_dt\" : report_period_end\n",
    "        })\n",
    "\n",
    "df_intervals = pd.DataFrame(to_push)"
   ]
  },
  {
   "cell_type": "markdown",
   "id": "17f76e21",
   "metadata": {},
   "source": [
    "### Выгрузка датафрейма в таблицу и .csv-файл"
   ]
  },
  {
   "cell_type": "code",
   "execution_count": 18,
   "id": "b0d358a5",
   "metadata": {
    "execution": {
     "iopub.execute_input": "2025-06-29T05:22:37.596883Z",
     "iopub.status.busy": "2025-06-29T05:22:37.596719Z",
     "iopub.status.idle": "2025-06-29T05:22:37.628034Z",
     "shell.execute_reply": "2025-06-29T05:22:37.627507Z"
    }
   },
   "outputs": [],
   "source": [
    "df_intervals = df_intervals.reset_index()\n",
    "df_intervals.rename(columns={\"index\" : \"id\"}, inplace=True)\n",
    "\n",
    "df_intervals.to_sql(\"intervals_tgt\", engine, if_exists=\"append\", index=False)\n",
    "df_intervals.to_csv(\"data/target/intervals_tgt.csv\")"
   ]
  }
 ],
 "metadata": {
  "kernelspec": {
   "display_name": "venv",
   "language": "python",
   "name": "python3"
  },
  "language_info": {
   "codemirror_mode": {
    "name": "ipython",
    "version": 3
   },
   "file_extension": ".py",
   "mimetype": "text/x-python",
   "name": "python",
   "nbconvert_exporter": "python",
   "pygments_lexer": "ipython3",
   "version": "3.12.3"
  }
 },
 "nbformat": 4,
 "nbformat_minor": 5
}
