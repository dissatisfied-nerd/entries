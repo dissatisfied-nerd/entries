{
 "cells": [
  {
   "cell_type": "markdown",
   "id": "21d873f7",
   "metadata": {},
   "source": [
    "# Излечение, преобразование, загрузка"
   ]
  },
  {
   "cell_type": "markdown",
   "id": "97fc3b8e",
   "metadata": {},
   "source": [
    "## Импортируем необходимые модули"
   ]
  },
  {
   "cell_type": "code",
   "execution_count": 80,
   "id": "04c9abb5",
   "metadata": {},
   "outputs": [],
   "source": [
    "import pandas as pd\n",
    "from sqlalchemy import create_engine, text"
   ]
  },
  {
   "cell_type": "markdown",
   "id": "ea9c3a57",
   "metadata": {},
   "source": [
    "## Настраиваем подключение к БД"
   ]
  },
  {
   "cell_type": "code",
   "execution_count": 81,
   "id": "ac81e4c5",
   "metadata": {},
   "outputs": [],
   "source": [
    "user = \"entries_user\"\n",
    "password = \"entries_password\"\n",
    "host = \"localhost\"\n",
    "port = \"5432\"\n",
    "database = \"entries_db\"\n",
    "\n",
    "engine = create_engine(f\"postgresql://{user}:{password}@{host}:{port}/{database}\")"
   ]
  },
  {
   "cell_type": "markdown",
   "id": "e2b3261e",
   "metadata": {},
   "source": [
    "## intervals_tgt\n",
    "\n",
    "Основа обработки - итерация по датам (ГГГГ-ММ-ДД) для каждого вхождения full_name, рассмотрение каждой записи, формирование из наиболее близких \"Вход\" и \"Выход\" интервала. Рассмотрим обработку аномалий:\n",
    "1. Ошибки системы - из пар записей с одинаковыми статусами и временной разницей менее минуты выбираем более позднюю, другую отбрасываем.\n",
    "2. Экстренный вход - если выход был произведён в обход системы, то повторный вход не рассматриваем как действительное начало интервала.\n",
    "3. Ночные выходы - если последней по времени записью для указанной даты является вход, то ищем самый ранний выход в следующем дне. По условию сотрудник не может пропасть или выйти, минуя систему, и не вернуться, учтённый выход на следующий день помечаем, чтобы избежать его повторного учёта.\n",
    "4. Перерыв на обед - если для указанной даты несколько пар входов и выходов или пара входов и выходов и вход, то учитываем несколько интервалов для одной даты.\n",
    "5. Конец учётного периода - если сотрудник остался в ночь, совпадающую с окончанием отчётного периода, то его интервал закрывается датой и временем окончания отчётного периода."
   ]
  },
  {
   "cell_type": "code",
   "execution_count": 82,
   "id": "55b10586",
   "metadata": {},
   "outputs": [
    {
     "data": {
      "text/plain": [
       "462"
      ]
     },
     "execution_count": 82,
     "metadata": {},
     "output_type": "execute_result"
    }
   ],
   "source": [
    "df = pd.read_sql(\"SELECT * FROM entries_src ORDER BY full_name, event_dt\", engine)\n",
    "df['event_dt'] = pd.to_datetime(df['event_dt'])\n",
    "df['event_date'] = df['event_dt'].dt.date\n",
    "\n",
    "report_period_end = df['event_dt'].max().normalize() + pd.Timedelta(hours=23, minutes=59, seconds=59)\n",
    "\n",
    "results = []\n",
    "used_indexes = set()\n",
    "\n",
    "for name, group in df.groupby('full_name'):\n",
    "    group = group.sort_values('event_dt').reset_index()\n",
    "    grouped = group.groupby(group['event_dt'].dt.date)\n",
    "\n",
    "    dates = sorted(grouped.groups.keys())\n",
    "    i = 0\n",
    "\n",
    "    while i < len(dates):\n",
    "        date = dates[i]\n",
    "        day_records = grouped.get_group(date).copy()\n",
    "\n",
    "        deduped = []\n",
    "        prev_row = None\n",
    "        \n",
    "        for _, row in day_records.iterrows():\n",
    "            if row['index'] in used_indexes:\n",
    "                continue\n",
    "        \n",
    "            if prev_row is not None:\n",
    "                same_status = prev_row['status'] == row['status']\n",
    "                time_diff = (row['event_dt'] - prev_row['event_dt']).total_seconds()\n",
    "        \n",
    "                if same_status and time_diff <= 60:\n",
    "                    deduped.pop()\n",
    "        \n",
    "            deduped.append(row)\n",
    "            prev_row = row\n",
    "        \n",
    "        day_records = pd.DataFrame(deduped)\n",
    "\n",
    "        j = 0\n",
    "        \n",
    "        while j < len(day_records):\n",
    "            row = day_records.iloc[j]\n",
    "        \n",
    "            if row['status'] != 'Вход' or row['index'] in used_indexes:\n",
    "                j += 1\n",
    "                continue\n",
    "\n",
    "            enter_dt = row['event_dt']\n",
    "            exit_dt = None\n",
    "            used_indexes.add(row['index'])\n",
    "\n",
    "            for k in range(j + 1, len(day_records)):\n",
    "                next_row = day_records.iloc[k]\n",
    "        \n",
    "                if next_row['index'] in used_indexes:\n",
    "                    continue\n",
    "\n",
    "                if next_row['status'] in ['Выход', 'Доступ запрещён']:\n",
    "                    exit_dt = next_row['event_dt']\n",
    "                    used_indexes.add(next_row['index'])\n",
    "                    j = k + 1\n",
    "                    break\n",
    "\n",
    "                elif next_row['status'] == 'Вход':\n",
    "        \n",
    "                    if (next_row['event_dt'] - enter_dt).total_seconds() <= 60:\n",
    "                        enter_dt = next_row['event_dt']\n",
    "                        used_indexes.add(next_row['index'])\n",
    "                        continue\n",
    "                    else:\n",
    "                        j = k\n",
    "                        break\n",
    "            else:\n",
    "                found = False\n",
    "        \n",
    "                if i + 1 < len(dates):\n",
    "                    next_day_records = grouped.get_group(dates[i + 1])\n",
    "        \n",
    "                    for _, next_row in next_day_records.iterrows():\n",
    "                        if next_row['index'] in used_indexes:\n",
    "                            continue\n",
    "        \n",
    "                        if next_row['status'] in ['Выход', 'Доступ запрещён']:\n",
    "                            exit_dt = next_row['event_dt']\n",
    "                            used_indexes.add(next_row['index'])\n",
    "                            found = True\n",
    "                            break\n",
    "\n",
    "                if not found:\n",
    "                    exit_dt = report_period_end\n",
    "\n",
    "                j += 1\n",
    "\n",
    "            results.append({\n",
    "                'full_name': name,\n",
    "                'enter_dt': enter_dt,\n",
    "                'exit_dt': exit_dt\n",
    "            })\n",
    "\n",
    "        i += 1\n",
    "\n",
    "\n",
    "intervals_df = pd.DataFrame(results)\n",
    "intervals_df = intervals_df.sort_values(['full_name', 'enter_dt']).reset_index(drop=True)\n",
    "intervals_df['id'] = intervals_df.index + 1\n",
    "\n",
    "intervals_df[['id', 'full_name', 'enter_dt', 'exit_dt']].to_sql(\n",
    "    'intervals_tgt',\n",
    "    engine,\n",
    "    if_exists='append',\n",
    "    index=False\n",
    ")"
   ]
  },
  {
   "cell_type": "markdown",
   "id": "63fc7220",
   "metadata": {},
   "source": [
    "## workdays_tgt\n",
    "\n",
    "Для каждого сотрудника рассматриваем все возможные даты (ГГГГ-ММ-ДД), для каждой даты в качестве начала рабочего дня считается наименьшее значение начала интервала, а в качестве окончания рабочего дня считается значение окончания интервала, соответствующее наибольшему значению начала интервала, соответствующей рассматриваемой даты."
   ]
  },
  {
   "cell_type": "code",
   "execution_count": 83,
   "id": "9a33d8f2",
   "metadata": {},
   "outputs": [
    {
     "data": {
      "text/plain": [
       "318"
      ]
     },
     "execution_count": 83,
     "metadata": {},
     "output_type": "execute_result"
    }
   ],
   "source": [
    "df = pd.read_sql(\"SELECT * FROM intervals_tgt ORDER BY full_name, enter_dt\", engine)\n",
    "df['enter_dt'] = pd.to_datetime(df['enter_dt'])\n",
    "df['exit_dt'] = pd.to_datetime(df['exit_dt'])\n",
    "\n",
    "df['report_dt'] = df['enter_dt'].dt.date\n",
    "\n",
    "results = []\n",
    "\n",
    "for name, group in df.groupby('full_name'):\n",
    "    group = group.sort_values('enter_dt').reset_index(drop=True)\n",
    "    \n",
    "    grouped_by_date = group.groupby('report_dt')\n",
    "\n",
    "    for date, day_group in grouped_by_date:\n",
    "        enter_dt = day_group['enter_dt'].min()\n",
    "        exit_dt = day_group[day_group['enter_dt'] == day_group['enter_dt'].max()]['exit_dt'].iloc[0]\n",
    "\n",
    "        results.append({\n",
    "            'full_name': name,\n",
    "            'report_dt': date,\n",
    "            'enter_dt': enter_dt,\n",
    "            'exit_dt': exit_dt\n",
    "        })\n",
    "\n",
    "workdays_df = pd.DataFrame(results)\n",
    "\n",
    "workdays_df['id'] = workdays_df.index + 1\n",
    "\n",
    "workdays_df[['id', 'full_name', 'report_dt', 'enter_dt', 'exit_dt']].to_sql(\n",
    "    'workdays_tgt',\n",
    "    engine,\n",
    "    if_exists='append',\n",
    "    index=False\n",
    ")"
   ]
  },
  {
   "cell_type": "markdown",
   "id": "27f000f1",
   "metadata": {},
   "source": [
    "## aggregated_info_tgt"
   ]
  },
  {
   "cell_type": "code",
   "execution_count": 84,
   "id": "b69d5fa9",
   "metadata": {},
   "outputs": [],
   "source": [
    "query_aggregated_info = \"\"\"\n",
    "INSERT INTO aggregated_info_tgt (\n",
    "    full_name,\n",
    "    month,\n",
    "    workdays_count,\n",
    "    on_time_count,\n",
    "    late_0_15,\n",
    "    late_15_30,\n",
    "    late_30_60,\n",
    "    late_60_plus,\n",
    "    full_day_count,\n",
    "    short_day_count,\n",
    "    avg_worktime\n",
    ")\n",
    "SELECT\n",
    "    full_name,\n",
    "    TO_CHAR(report_dt, 'YYYY-MM') AS month,\n",
    "    COUNT(*) AS workdays_count,\n",
    "    COUNT(*) FILTER (WHERE enter_dt::time <= TIME '09:00:00') AS on_time_count,\n",
    "    COUNT(*) FILTER (\n",
    "        WHERE enter_dt::time > TIME '09:00:00'\n",
    "          AND EXTRACT(EPOCH FROM (enter_dt::time - TIME '09:00:00')) / 60 <= 15\n",
    "    ) AS late_0_15,\n",
    "    COUNT(*) FILTER (\n",
    "        WHERE EXTRACT(EPOCH FROM (enter_dt::time - TIME '09:00:00')) / 60 > 15\n",
    "          AND EXTRACT(EPOCH FROM (enter_dt::time - TIME '09:00:00')) / 60 <= 30\n",
    "    ) AS late_15_30,\n",
    "    COUNT(*) FILTER (\n",
    "        WHERE EXTRACT(EPOCH FROM (enter_dt::time - TIME '09:00:00')) / 60 > 30\n",
    "          AND EXTRACT(EPOCH FROM (enter_dt::time - TIME '09:00:00')) / 60 <= 60\n",
    "    ) AS late_30_60,\n",
    "    COUNT(*) FILTER (\n",
    "        WHERE EXTRACT(EPOCH FROM (enter_dt::time - TIME '09:00:00')) / 60 > 60\n",
    "    ) AS late_60_plus,\n",
    "    COUNT(*) FILTER (\n",
    "        WHERE EXTRACT(EPOCH FROM (exit_dt - enter_dt)) / 3600 >= 9\n",
    "    ) AS full_day_count,\n",
    "    COUNT(*) FILTER (\n",
    "        WHERE EXTRACT(EPOCH FROM (exit_dt - enter_dt)) / 3600 < 9\n",
    "    ) AS short_day_count,\n",
    "    ROUND(AVG(EXTRACT(EPOCH FROM (exit_dt - enter_dt)) / 3600), 2) AS avg_worktime\n",
    "FROM workdays_tgt\n",
    "GROUP BY full_name, TO_CHAR(report_dt, 'YYYY-MM')\n",
    "ORDER BY full_name, TO_CHAR(report_dt, 'YYYY-MM');\n",
    "\"\"\"\n",
    "\n",
    "with engine.connect() as conn:\n",
    "    with conn.begin():\n",
    "        conn.execute(text(query_aggregated_info))"
   ]
  },
  {
   "cell_type": "markdown",
   "id": "aec11911",
   "metadata": {},
   "source": [
    "## Эскпортируем полученные таблицы в .csv"
   ]
  },
  {
   "cell_type": "code",
   "execution_count": 85,
   "id": "e06de923",
   "metadata": {},
   "outputs": [
    {
     "name": "stdout",
     "output_type": "stream",
     "text": [
      "Таблица entries_src сохранена в файл data/target/entries_src.csv\n",
      "Таблица intervals_tgt сохранена в файл data/target/intervals_tgt.csv\n",
      "Таблица aggregated_info_tgt сохранена в файл data/target/aggregated_info_tgt.csv\n"
     ]
    }
   ],
   "source": [
    "tables = ['entries_src', 'intervals_tgt', 'aggregated_info_tgt']\n",
    "\n",
    "for table in tables:\n",
    "    df = pd.read_sql(f\"SELECT * FROM {table}\", engine)\n",
    "    csv_filename = f\"data/target/{table}.csv\"\n",
    "    df.to_csv(csv_filename, index=False)\n",
    "    print(f\"Таблица {table} сохранена в файл {csv_filename}\")"
   ]
  }
 ],
 "metadata": {
  "kernelspec": {
   "display_name": "venv",
   "language": "python",
   "name": "python3"
  },
  "language_info": {
   "codemirror_mode": {
    "name": "ipython",
    "version": 3
   },
   "file_extension": ".py",
   "mimetype": "text/x-python",
   "name": "python",
   "nbconvert_exporter": "python",
   "pygments_lexer": "ipython3",
   "version": "3.12.3"
  }
 },
 "nbformat": 4,
 "nbformat_minor": 5
}
