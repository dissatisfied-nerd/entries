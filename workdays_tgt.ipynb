{
 "cells": [
  {
   "cell_type": "markdown",
   "id": "21d873f7",
   "metadata": {},
   "source": [
    "# Излечение, преобразование, загрузка"
   ]
  },
  {
   "cell_type": "markdown",
   "id": "97fc3b8e",
   "metadata": {},
   "source": [
    "## Импортируем необходимые модули"
   ]
  },
  {
   "cell_type": "code",
   "execution_count": 1,
   "id": "04c9abb5",
   "metadata": {
    "execution": {
     "iopub.execute_input": "2025-06-29T05:22:39.971917Z",
     "iopub.status.busy": "2025-06-29T05:22:39.971739Z",
     "iopub.status.idle": "2025-06-29T05:22:40.378452Z",
     "shell.execute_reply": "2025-06-29T05:22:40.377738Z"
    }
   },
   "outputs": [],
   "source": [
    "import pandas as pd\n",
    "from sqlalchemy import create_engine, text\n",
    "from datetime import datetime"
   ]
  },
  {
   "cell_type": "markdown",
   "id": "ea9c3a57",
   "metadata": {},
   "source": [
    "## Настраиваем подключение к БД"
   ]
  },
  {
   "cell_type": "code",
   "execution_count": 2,
   "id": "ac81e4c5",
   "metadata": {
    "execution": {
     "iopub.execute_input": "2025-06-29T05:22:40.380840Z",
     "iopub.status.busy": "2025-06-29T05:22:40.380624Z",
     "iopub.status.idle": "2025-06-29T05:22:40.422783Z",
     "shell.execute_reply": "2025-06-29T05:22:40.422140Z"
    }
   },
   "outputs": [],
   "source": [
    "user = \"entries_user\"\n",
    "password = \"entries_password\"\n",
    "host = \"localhost\"\n",
    "port = \"5432\"\n",
    "database = \"entries_db\"\n",
    "\n",
    "engine = create_engine(f\"postgresql://{user}:{password}@{host}:{port}/{database}\")"
   ]
  },
  {
   "cell_type": "markdown",
   "id": "63fc7220",
   "metadata": {},
   "source": [
    "## Выгрузка данных из таблицы"
   ]
  },
  {
   "cell_type": "code",
   "execution_count": 3,
   "id": "e306ae87",
   "metadata": {
    "execution": {
     "iopub.execute_input": "2025-06-29T05:22:40.425035Z",
     "iopub.status.busy": "2025-06-29T05:22:40.424860Z",
     "iopub.status.idle": "2025-06-29T05:22:40.450145Z",
     "shell.execute_reply": "2025-06-29T05:22:40.449562Z"
    }
   },
   "outputs": [],
   "source": [
    "df_intervals = pd.read_sql(\"SELECT * FROM intervals_tgt;\", engine, index_col=\"id\")\n",
    "df_intervals[\"enter_dt\"] = pd.to_datetime(df_intervals[\"enter_dt\"])\n",
    "df_intervals[\"exit_dt\"] = pd.to_datetime(df_intervals[\"exit_dt\"])"
   ]
  },
  {
   "cell_type": "markdown",
   "id": "751eed03",
   "metadata": {},
   "source": [
    "## Разибение интервалов\n",
    "\n",
    "В качестве аналитического допущения разобьём каждый интервал, содержащий дату со временем 04:00:00 на два интервала, концом первого будет 04:00:00, а началом второго 04:00:01.\n",
    "\n",
    "Примечание: в нашем случае интервал содержит максимум одну дату со временем 04:00:00, однако задача, подразумевающая большее количество интервалов так же легко решаема при помощи тривиальной итерации от `enter_dt.date()` до `exit_dt.date()` и проверки выполнения того же неравенства\n",
    "$$ enter\\_dt < split\\_dt_{i} < exit\\_dt, $$\n",
    "где $split\\_dt$ - дата со временем 04:00:00."
   ]
  },
  {
   "cell_type": "code",
   "execution_count": 4,
   "id": "9a33d8f2",
   "metadata": {
    "execution": {
     "iopub.execute_input": "2025-06-29T05:22:40.452320Z",
     "iopub.status.busy": "2025-06-29T05:22:40.452153Z",
     "iopub.status.idle": "2025-06-29T05:22:40.461685Z",
     "shell.execute_reply": "2025-06-29T05:22:40.461043Z"
    }
   },
   "outputs": [],
   "source": [
    "to_push = []\n",
    "to_drop = []\n",
    "\n",
    "for row in df_intervals.itertuples():\n",
    "    split_dt = row.exit_dt.replace(hour=4, minute=0, second=0)\n",
    "\n",
    "    if row.enter_dt < split_dt < row.exit_dt:\n",
    "        to_drop.append(row.Index)\n",
    "        to_push.append({\n",
    "            \"full_name\" : row.full_name,\n",
    "            \"enter_dt\" : row.enter_dt,\n",
    "            \"exit_dt\" : split_dt\n",
    "        })\n",
    "        to_push.append({\n",
    "            \"full_name\" : row.full_name,\n",
    "            \"enter_dt\" : split_dt + pd.Timedelta(seconds=1),\n",
    "            \"exit_dt\" : row.exit_dt\n",
    "        })\n",
    "\n",
    "df_intervals.drop(to_drop, inplace=True)\n",
    "df_intervals = pd.concat([df_intervals, pd.DataFrame(to_push)], ignore_index=True)"
   ]
  },
  {
   "cell_type": "markdown",
   "id": "225febb2",
   "metadata": {},
   "source": [
    "## Формирование рабочего дня\n",
    "\n",
    "Для точности напомним, что по определению $ enter\\_dt < exit\\_dt $, тогда введём $ exit\\_dt^{shuft} = exit\\_dt - shift $, в данном случае $ shift $ соответствует 4 часам и 1 секнуде. Если $ enter\\_dt.date() \\neq exit\\_dt.date() $, то гарантируется, что после группировки по $ exit\\_dt - shift $ интервалы будут относить к одному аналитическому дню.\n",
    "$$ 04:00:01 < enter\\_dt < exit\\_dt < 04:00:00, $$\n",
    "$$ 00:00:01 < enter\\_dt - shift < exit\\_dt - shift < 00:00:00, $$\n",
    "левая и правая границы неравнества, разумеется, относятся к датам с разниец в один день."
   ]
  },
  {
   "cell_type": "code",
   "execution_count": 5,
   "id": "7deb3479",
   "metadata": {
    "execution": {
     "iopub.execute_input": "2025-06-29T05:22:40.463709Z",
     "iopub.status.busy": "2025-06-29T05:22:40.463539Z",
     "iopub.status.idle": "2025-06-29T05:22:40.536740Z",
     "shell.execute_reply": "2025-06-29T05:22:40.536240Z"
    }
   },
   "outputs": [],
   "source": [
    "df_intervals[\"report_date\"] = (df_intervals[\"exit_dt\"] - pd.Timedelta(hours=4, seconds=1)).dt.date\n",
    "to_push = []\n",
    "\n",
    "for (name, report_date), group in df_intervals.groupby([\"full_name\", \"report_date\"]):\n",
    "    to_push.append({\n",
    "        \"full_name\" : name,\n",
    "        \"report_date\" : report_date,\n",
    "        \"enter_dt\" : group[\"enter_dt\"].min(),\n",
    "        \"exit_dt\" : group[\"exit_dt\"].max()\n",
    "    })\n",
    "\n",
    "df_workdays = pd.DataFrame(to_push)"
   ]
  },
  {
   "cell_type": "markdown",
   "id": "ef2fe12d",
   "metadata": {},
   "source": [
    "### Выгрузка датафрейма в таблицу и .csv-файл"
   ]
  },
  {
   "cell_type": "code",
   "execution_count": 6,
   "id": "547b1654",
   "metadata": {
    "execution": {
     "iopub.execute_input": "2025-06-29T05:22:40.538720Z",
     "iopub.status.busy": "2025-06-29T05:22:40.538532Z",
     "iopub.status.idle": "2025-06-29T05:22:40.560865Z",
     "shell.execute_reply": "2025-06-29T05:22:40.560315Z"
    }
   },
   "outputs": [],
   "source": [
    "df_workdays = df_workdays.reset_index()\n",
    "df_workdays.rename(columns={\"index\" : \"id\"}, inplace=True)\n",
    "\n",
    "df_workdays.to_sql(\"workdays_tgt\", engine, if_exists=\"append\", index=False)\n",
    "df_workdays.to_csv(\"data/target/workdays_tgt.csv\", index=False)"
   ]
  }
 ],
 "metadata": {
  "kernelspec": {
   "display_name": "venv",
   "language": "python",
   "name": "python3"
  },
  "language_info": {
   "codemirror_mode": {
    "name": "ipython",
    "version": 3
   },
   "file_extension": ".py",
   "mimetype": "text/x-python",
   "name": "python",
   "nbconvert_exporter": "python",
   "pygments_lexer": "ipython3",
   "version": "3.12.3"
  }
 },
 "nbformat": 4,
 "nbformat_minor": 5
}
