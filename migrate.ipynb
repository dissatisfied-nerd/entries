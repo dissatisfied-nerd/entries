{
 "cells": [
  {
   "cell_type": "markdown",
   "id": "5553081b",
   "metadata": {},
   "source": [
    "# Описание схемы базы данных"
   ]
  },
  {
   "cell_type": "markdown",
   "id": "eaad99f1",
   "metadata": {},
   "source": [
    "## Импорт модулей"
   ]
  },
  {
   "cell_type": "code",
   "execution_count": 1,
   "id": "badb607a",
   "metadata": {
    "execution": {
     "iopub.execute_input": "2025-06-29T05:22:33.839187Z",
     "iopub.status.busy": "2025-06-29T05:22:33.839002Z",
     "iopub.status.idle": "2025-06-29T05:22:34.223338Z",
     "shell.execute_reply": "2025-06-29T05:22:34.222664Z"
    }
   },
   "outputs": [],
   "source": [
    "import pandas as pd\n",
    "from sqlalchemy import create_engine, text"
   ]
  },
  {
   "cell_type": "markdown",
   "id": "94436834",
   "metadata": {},
   "source": [
    "## Создание пользователя и базы данных\n",
    "\n",
    "```sql\n",
    "CREATE USER entries_user WITH PASSWORD 'entries_password';\n",
    "CREATE DATABASE entries_db OWNER entries_user;\n",
    "GRANT ALL PRIVILEGES ON DATABASE entries_db TO entries_user;\n",
    "```"
   ]
  },
  {
   "cell_type": "markdown",
   "id": "5a024a05",
   "metadata": {},
   "source": [
    "## Подключение к БД"
   ]
  },
  {
   "cell_type": "code",
   "execution_count": 2,
   "id": "ce903191",
   "metadata": {
    "execution": {
     "iopub.execute_input": "2025-06-29T05:22:34.225536Z",
     "iopub.status.busy": "2025-06-29T05:22:34.225308Z",
     "iopub.status.idle": "2025-06-29T05:22:34.266143Z",
     "shell.execute_reply": "2025-06-29T05:22:34.265617Z"
    }
   },
   "outputs": [],
   "source": [
    "user = \"entries_user\"\n",
    "password = \"entries_password\"\n",
    "host = \"localhost\"\n",
    "port = \"5432\"\n",
    "database = \"entries_db\"\n",
    "\n",
    "engine = create_engine(f\"postgresql://{user}:{password}@{host}:{port}/{database}\")\n",
    "tables = [\"entries_src\", \"intervals_tgt\", \"workdays_tgt\", \"aggregated_info_tgt\", \"emergency_ref\", \"departments_ref\", \"worker_department_xref\"]"
   ]
  },
  {
   "cell_type": "markdown",
   "id": "152bca8e",
   "metadata": {},
   "source": [
    "## Удаление старых таблиц"
   ]
  },
  {
   "cell_type": "code",
   "execution_count": 3,
   "id": "ea078052",
   "metadata": {
    "execution": {
     "iopub.execute_input": "2025-06-29T05:22:34.268231Z",
     "iopub.status.busy": "2025-06-29T05:22:34.268070Z",
     "iopub.status.idle": "2025-06-29T05:22:34.290732Z",
     "shell.execute_reply": "2025-06-29T05:22:34.290203Z"
    }
   },
   "outputs": [],
   "source": [
    "with engine.connect() as conn:\n",
    "    with conn.begin():\n",
    "        for table in tables:\n",
    "            conn.execute(text(f\"DROP TABLE IF EXISTS {table};\"))"
   ]
  },
  {
   "cell_type": "markdown",
   "id": "20cb56b6",
   "metadata": {},
   "source": [
    "## Создание таблиц"
   ]
  },
  {
   "cell_type": "markdown",
   "id": "c466b0bf",
   "metadata": {},
   "source": [
    "### Исходная таблица с сырыми данными"
   ]
  },
  {
   "cell_type": "code",
   "execution_count": 4,
   "id": "1aa92426",
   "metadata": {
    "execution": {
     "iopub.execute_input": "2025-06-29T05:22:34.292657Z",
     "iopub.status.busy": "2025-06-29T05:22:34.292519Z",
     "iopub.status.idle": "2025-06-29T05:22:34.295459Z",
     "shell.execute_reply": "2025-06-29T05:22:34.294970Z"
    }
   },
   "outputs": [],
   "source": [
    "query_entries_src = \"\"\"CREATE TABLE entries_src(\n",
    "    id INTEGER PRIMARY KEY,\n",
    "    full_name VARCHAR(255) NOT NULL,\n",
    "    event_dt TIMESTAMP NOT NULL,\n",
    "    status VARCHAR(32) NOT NULL,\n",
    "    CONSTRAINT unique_full_name_event_dt UNIQUE (full_name, event_dt),\n",
    "    CONSTRAINT valid_status CHECK (status IN ('Вход', 'Выход', 'Доступ запрещён'))\n",
    ");\"\"\""
   ]
  },
  {
   "cell_type": "markdown",
   "id": "a2cabf76",
   "metadata": {},
   "source": [
    "### Справочная таблица с запланированными учениями"
   ]
  },
  {
   "cell_type": "code",
   "execution_count": 5,
   "id": "ffaf017d",
   "metadata": {
    "execution": {
     "iopub.execute_input": "2025-06-29T05:22:34.297247Z",
     "iopub.status.busy": "2025-06-29T05:22:34.297012Z",
     "iopub.status.idle": "2025-06-29T05:22:34.301155Z",
     "shell.execute_reply": "2025-06-29T05:22:34.300623Z"
    }
   },
   "outputs": [],
   "source": [
    "query_emergency_ref = \"\"\"CREATE TABLE emergency_ref(\n",
    "    id INTEGER PRIMARY KEY,\n",
    "    name VARCHAR(255) NOT NULL,\n",
    "    event_dt TIMESTAMP NOT NULL,\n",
    "    duration INTEGER CHECK (duration <= 60)\n",
    ");\"\"\""
   ]
  },
  {
   "cell_type": "markdown",
   "id": "35c7412c",
   "metadata": {},
   "source": [
    "### Справочная таблица департаментов"
   ]
  },
  {
   "cell_type": "code",
   "execution_count": 6,
   "id": "4eb6f8ce",
   "metadata": {
    "execution": {
     "iopub.execute_input": "2025-06-29T05:22:34.302749Z",
     "iopub.status.busy": "2025-06-29T05:22:34.302613Z",
     "iopub.status.idle": "2025-06-29T05:22:34.308719Z",
     "shell.execute_reply": "2025-06-29T05:22:34.308258Z"
    }
   },
   "outputs": [],
   "source": [
    "query_dep_ref = \"\"\"CREATE TABLE departments_ref(\n",
    "    id INTEGER PRIMARY KEY,\n",
    "    name VARCHAR(255) NOT NULL,\n",
    "    enter_hour INTEGER NOT NULL CHECK (enter_hour BETWEEN 0 AND 23),\n",
    "    exit_hour INTEGER NOT NULL CHECK (exit_hour BETWEEN 0 AND 23)\n",
    ");\"\"\""
   ]
  },
  {
   "cell_type": "markdown",
   "id": "913dda23",
   "metadata": {},
   "source": [
    "### Таблица связности сотрудник - департамент"
   ]
  },
  {
   "cell_type": "code",
   "execution_count": 7,
   "id": "6ba9af52",
   "metadata": {
    "execution": {
     "iopub.execute_input": "2025-06-29T05:22:34.310345Z",
     "iopub.status.busy": "2025-06-29T05:22:34.310210Z",
     "iopub.status.idle": "2025-06-29T05:22:34.314175Z",
     "shell.execute_reply": "2025-06-29T05:22:34.313688Z"
    }
   },
   "outputs": [],
   "source": [
    "query_worker_dep_xref = \"\"\"CREATE TABLE worker_department_xref(\n",
    "    id INTEGER PRIMARY KEY,\n",
    "    full_name VARCHAR(255) NOT NULL,\n",
    "    department VARCHAR(255) NOT NULL\n",
    ");\"\"\""
   ]
  },
  {
   "cell_type": "markdown",
   "id": "21a118dd",
   "metadata": {},
   "source": [
    "### Целевая таблица с интервалами пребывания сотрудников на рабочем месте"
   ]
  },
  {
   "cell_type": "code",
   "execution_count": 8,
   "id": "0e9fee87",
   "metadata": {
    "execution": {
     "iopub.execute_input": "2025-06-29T05:22:34.315832Z",
     "iopub.status.busy": "2025-06-29T05:22:34.315698Z",
     "iopub.status.idle": "2025-06-29T05:22:34.319705Z",
     "shell.execute_reply": "2025-06-29T05:22:34.319170Z"
    }
   },
   "outputs": [],
   "source": [
    "query_intervals_tgt = \"\"\"CREATE TABLE intervals_tgt(\n",
    "    id INTEGER PRIMARY KEY,\n",
    "    full_name VARCHAR(255) NOT NULL,\n",
    "    enter_dt TIMESTAMP NOT NULL,\n",
    "    exit_dt TIMESTAMP,\n",
    "    CONSTRAINT unique_full_name_enter_dt UNIQUE (full_name, enter_dt)\n",
    ");\"\"\""
   ]
  },
  {
   "cell_type": "markdown",
   "id": "e2244b48",
   "metadata": {},
   "source": [
    "### Целевая таблица с рабочими днями сотрудников"
   ]
  },
  {
   "cell_type": "code",
   "execution_count": 9,
   "id": "d2047b9c",
   "metadata": {
    "execution": {
     "iopub.execute_input": "2025-06-29T05:22:34.321369Z",
     "iopub.status.busy": "2025-06-29T05:22:34.321232Z",
     "iopub.status.idle": "2025-06-29T05:22:34.324904Z",
     "shell.execute_reply": "2025-06-29T05:22:34.324413Z"
    }
   },
   "outputs": [],
   "source": [
    "query_workdays_tgt = \"\"\"CREATE TABLE workdays_tgt(\n",
    "    id INTEGER PRIMARY KEY,\n",
    "    full_name VARCHAR(255) NOT NULL,\n",
    "    report_date TIMESTAMP NOT NULL,\n",
    "    enter_dt TIMESTAMP NOT NULL,\n",
    "    exit_dt TIMESTAMP NOT NULL,\n",
    "    CONSTRAINT unique_full_name_report_date UNIQUE (full_name, report_date)\n",
    ");\"\"\""
   ]
  },
  {
   "cell_type": "markdown",
   "id": "f19a42a9",
   "metadata": {},
   "source": [
    "### Агрегированная информация"
   ]
  },
  {
   "cell_type": "code",
   "execution_count": 10,
   "id": "c955d38a",
   "metadata": {
    "execution": {
     "iopub.execute_input": "2025-06-29T05:22:34.326577Z",
     "iopub.status.busy": "2025-06-29T05:22:34.326440Z",
     "iopub.status.idle": "2025-06-29T05:22:34.330489Z",
     "shell.execute_reply": "2025-06-29T05:22:34.329968Z"
    }
   },
   "outputs": [],
   "source": [
    "query_aggregated_info_tgt = \"\"\"CREATE TABLE aggregated_info_tgt(\n",
    "    full_name TEXT NOT NULL,\n",
    "    month TEXT NOT NULL, -- формат YYYY-MM\n",
    "    workdays_count INTEGER NOT NULL,\n",
    "    on_time_count INTEGER NOT NULL,\n",
    "    late_0_15 INTEGER NOT NULL,\n",
    "    late_15_30 INTEGER NOT NULL,\n",
    "    late_30_60 INTEGER NOT NULL,\n",
    "    late_60_plus INTEGER NOT NULL,\n",
    "    left_on_time_count INTEGER NOT NULL,\n",
    "    left_early_0_15 INTEGER NOT NULL,\n",
    "    left_early_15_30 INTEGER NOT NULL,\n",
    "    left_early_30_60 INTEGER NOT NULL,\n",
    "    left_early_60_plus INTEGER NOT NULL,\n",
    "    full_day_count INTEGER NOT NULL,\n",
    "    short_day_count INTEGER NOT NULL,\n",
    "    avg_worktime NUMERIC(5,2) NOT NULL\n",
    ");\"\"\""
   ]
  },
  {
   "cell_type": "markdown",
   "id": "a7539ceb",
   "metadata": {},
   "source": [
    "## Загрузка датасета"
   ]
  },
  {
   "cell_type": "code",
   "execution_count": 11,
   "id": "e90d5e97",
   "metadata": {
    "execution": {
     "iopub.execute_input": "2025-06-29T05:22:34.332141Z",
     "iopub.status.busy": "2025-06-29T05:22:34.331985Z",
     "iopub.status.idle": "2025-06-29T05:22:34.645034Z",
     "shell.execute_reply": "2025-06-29T05:22:34.644543Z"
    }
   },
   "outputs": [],
   "source": [
    "df_data = pd.read_csv(\"data/source/entries_src.csv\")\n",
    "df_data.index.name = \"id\"\n",
    "\n",
    "query_insert_entries_src = \"\"\"INSERT INTO entries_src (id, full_name, event_dt, status)\n",
    "    VALUES (:id, :full_name, :event_dt, :status);\"\"\"\n",
    "\n",
    "records_data = df_data.reset_index().to_dict(orient=\"records\")\n",
    "\n",
    "\n",
    "df_emergency = pd.read_csv(\"data/reference/emergency_ref.csv\")\n",
    "df_emergency.index.name = \"id\"\n",
    "\n",
    "query_insert_emergency_ref = \"\"\"INSERT INTO emergency_ref (id, name, event_dt, duration)\n",
    "    VALUES (:id, :name, :event_dt, :duration);\"\"\"\n",
    "\n",
    "records_emergency = df_emergency.reset_index().to_dict(orient=\"records\")\n",
    "\n",
    "\n",
    "df_dep = pd.read_csv(\"data/reference/departments_ref.csv\")\n",
    "df_dep.index.name = \"id\"\n",
    "\n",
    "query_insert_dep_ref = \"\"\"INSERT INTO departments_ref (id, name, enter_hour, exit_hour)\n",
    "    VALUES (:id, :name, :enter_hour, :exit_hour);\"\"\"\n",
    "\n",
    "records_dep = df_dep.reset_index().to_dict(orient=\"records\")\n",
    "\n",
    "\n",
    "df_worker_dep = pd.read_csv(\"data/reference/worker_department_xref.csv\")\n",
    "df_worker_dep.index.name = \"id\"\n",
    "\n",
    "query_insert_worker_dep_ref = \"\"\"INSERT INTO worker_department_xref (id, full_name, department)\n",
    "    VALUES (:id, :full_name, :department);\"\"\"\n",
    "\n",
    "records_worker_dep = df_worker_dep.reset_index().to_dict(orient=\"records\")\n",
    "\n",
    "\n",
    "with engine.connect() as conn:\n",
    "    with conn.begin():\n",
    "        conn.execute(text(query_entries_src))\n",
    "\n",
    "        conn.execute(text(query_emergency_ref))\n",
    "        conn.execute(text(query_dep_ref))\n",
    "        conn.execute(text(query_worker_dep_xref))\n",
    "\n",
    "        conn.execute(text(query_intervals_tgt))\n",
    "        conn.execute(text(query_workdays_tgt))\n",
    "        conn.execute(text(query_aggregated_info_tgt))\n",
    "\n",
    "        for record in records_data:\n",
    "            conn.execute(text(query_insert_entries_src), record)\n",
    "\n",
    "        for record in records_emergency:\n",
    "            conn.execute(text(query_insert_emergency_ref), record)\n",
    "\n",
    "        for record in records_dep:\n",
    "            conn.execute(text(query_insert_dep_ref), record)\n",
    "        \n",
    "        for record in records_worker_dep:\n",
    "            conn.execute(text(query_insert_worker_dep_ref), record)"
   ]
  }
 ],
 "metadata": {
  "kernelspec": {
   "display_name": "venv",
   "language": "python",
   "name": "python3"
  },
  "language_info": {
   "codemirror_mode": {
    "name": "ipython",
    "version": 3
   },
   "file_extension": ".py",
   "mimetype": "text/x-python",
   "name": "python",
   "nbconvert_exporter": "python",
   "pygments_lexer": "ipython3",
   "version": "3.12.3"
  }
 },
 "nbformat": 4,
 "nbformat_minor": 5
}
