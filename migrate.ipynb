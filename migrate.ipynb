{
 "cells": [
  {
   "cell_type": "markdown",
   "id": "5553081b",
   "metadata": {},
   "source": [
    "# Описание схемы базы данных"
   ]
  },
  {
   "cell_type": "markdown",
   "id": "eaad99f1",
   "metadata": {},
   "source": [
    "### Импорт модулей"
   ]
  },
  {
   "cell_type": "code",
   "execution_count": 43,
   "id": "badb607a",
   "metadata": {},
   "outputs": [],
   "source": [
    "import pandas as pd\n",
    "from sqlalchemy import create_engine, text"
   ]
  },
  {
   "cell_type": "markdown",
   "id": "94436834",
   "metadata": {},
   "source": [
    "### Создание пользователя и базы данных\n",
    "\n",
    "```sql\n",
    "CREATE USER entries_user WITH PASSWORD 'entries_password';\n",
    "CREATE DATABASE entries_db OWNER entries_user;\n",
    "GRANT ALL PRIVILEGES ON DATABASE entries_db TO entries_user;\n",
    "```"
   ]
  },
  {
   "cell_type": "markdown",
   "id": "5a024a05",
   "metadata": {},
   "source": [
    "### Подключение к БД"
   ]
  },
  {
   "cell_type": "code",
   "execution_count": 44,
   "id": "ce903191",
   "metadata": {},
   "outputs": [],
   "source": [
    "user = \"entries_user\"\n",
    "password = \"entries_password\"\n",
    "host = \"localhost\"\n",
    "port = \"5432\"\n",
    "database = \"entries_db\"\n",
    "\n",
    "engine = create_engine(f\"postgresql://{user}:{password}@{host}:{port}/{database}\")"
   ]
  },
  {
   "cell_type": "markdown",
   "id": "20cb56b6",
   "metadata": {},
   "source": [
    "## Создание таблиц"
   ]
  },
  {
   "cell_type": "markdown",
   "id": "c466b0bf",
   "metadata": {},
   "source": [
    "Исходная таблица с сырыми данными."
   ]
  },
  {
   "cell_type": "code",
   "execution_count": 45,
   "id": "1aa92426",
   "metadata": {},
   "outputs": [],
   "source": [
    "query_entries_src = \"CREATE TABLE entries_src(\" \\\n",
    "    \"id INTEGER PRIMARY KEY,\" \\\n",
    "    \"full_name VARCHAR(255) NOT NULL,\" \\\n",
    "    \"event_dt TIMESTAMP NOT NULL,\" \\\n",
    "    \"status VARCHAR(32) NOT NULL,\" \\\n",
    "    \"CONSTRAINT unique_full_name_event_dt UNIQUE (full_name, event_dt),\" \\\n",
    "    \"CONSTRAINT valid_status CHECK (status IN ('Вход', 'Выход', 'Доступ запрещён'))\" \\\n",
    "\");\"\n",
    "\n",
    "with engine.connect() as conn:\n",
    "    with conn.begin():\n",
    "        conn.execute(text(query_entries_src))"
   ]
  },
  {
   "cell_type": "markdown",
   "id": "21a118dd",
   "metadata": {},
   "source": [
    "Целевая таблица с интервалами пребывания сотрудников на рабочем месте."
   ]
  },
  {
   "cell_type": "code",
   "execution_count": 46,
   "id": "0e9fee87",
   "metadata": {},
   "outputs": [],
   "source": [
    "query_intervals_tgt = \"CREATE TABLE intervals_tgt(\" \\\n",
    "    \"id INTEGER PRIMARY KEY,\" \\\n",
    "    \"full_name VARCHAR(255) NOT NULL,\" \\\n",
    "    \"enter_dt TIMESTAMP NOT NULL,\" \\\n",
    "    \"exit_dt TIMESTAMP,\" \\\n",
    "    \"CONSTRAINT unique_full_name_enter_dt UNIQUE (full_name, enter_dt)\" \\\n",
    "\");\"\n",
    "\n",
    "with engine.connect() as conn:\n",
    "    with conn.begin():\n",
    "        conn.execute(text(query_intervals_tgt))"
   ]
  },
  {
   "cell_type": "markdown",
   "id": "e2244b48",
   "metadata": {},
   "source": [
    "Целевая таблица с рабочими днями сотрудников."
   ]
  },
  {
   "cell_type": "code",
   "execution_count": 47,
   "id": "d2047b9c",
   "metadata": {},
   "outputs": [],
   "source": [
    "query_workdays_tgt = \"CREATE TABLE workdays_tgt(\" \\\n",
    "    \"id INTEGER PRIMARY KEY,\" \\\n",
    "    \"full_name VARCHAR(255) NOT NULL,\" \\\n",
    "    \"report_dt TIMESTAMP NOT NULL,\" \\\n",
    "    \"enter_dt TIMESTAMP NOT NULL,\" \\\n",
    "    \"exit_dt TIMESTAMP,\" \\\n",
    "    \"CONSTRAINT unique_full_name_report_dt UNIQUE (full_name, report_dt)\" \\\n",
    "\");\"\n",
    "\n",
    "with engine.connect() as conn:\n",
    "    with conn.begin():\n",
    "        conn.execute(text(query_workdays_tgt))"
   ]
  },
  {
   "cell_type": "markdown",
   "id": "f19a42a9",
   "metadata": {},
   "source": [
    "### Агрегированная информация"
   ]
  },
  {
   "cell_type": "code",
   "execution_count": 48,
   "id": "c955d38a",
   "metadata": {},
   "outputs": [],
   "source": [
    "query_aggregated_info_tgt = \"\"\"\n",
    "    CREATE TABLE aggregated_info_tgt (\n",
    "        id SERIAL PRIMARY KEY,\n",
    "        full_name VARCHAR(255) NOT NULL,\n",
    "        month VARCHAR(7) NOT NULL,\n",
    "        \n",
    "        workdays_count INTEGER NOT NULL,\n",
    "        on_time_count INTEGER NOT NULL,\n",
    "        \n",
    "        late_0_15 INTEGER NOT NULL,\n",
    "        late_15_30 INTEGER NOT NULL,\n",
    "        late_30_60 INTEGER NOT NULL,\n",
    "        late_60_plus INTEGER NOT NULL,\n",
    "        \n",
    "        full_day_count INTEGER NOT NULL,\n",
    "        short_day_count INTEGER NOT NULL,\n",
    "        \n",
    "        avg_worktime NUMERIC(5, 2) NOT NULL\n",
    ");\n",
    "\n",
    "\"\"\"\n",
    "\n",
    "with engine.connect() as conn:\n",
    "    with conn.begin():\n",
    "        conn.execute(text(query_aggregated_info_tgt))"
   ]
  },
  {
   "cell_type": "markdown",
   "id": "a7539ceb",
   "metadata": {},
   "source": [
    "## Загрузка датасета"
   ]
  },
  {
   "cell_type": "code",
   "execution_count": 49,
   "id": "e90d5e97",
   "metadata": {},
   "outputs": [],
   "source": [
    "df = pd.read_csv(\"data/source/entries.csv\")\n",
    "df.index.name = \"id\"\n",
    "\n",
    "query_insert_entries = \"INSERT INTO entries_src (id, full_name, event_dt, status)\" \\\n",
    "    \"VALUES (:id, :full_name, :event_dt, :status);\"\n",
    "\n",
    "records = df.reset_index().to_dict(orient=\"records\")\n",
    "\n",
    "with engine.connect() as conn:\n",
    "    with conn.begin():\n",
    "        for record in records:\n",
    "            conn.execute(text(query_insert_entries), record)"
   ]
  }
 ],
 "metadata": {
  "kernelspec": {
   "display_name": "venv",
   "language": "python",
   "name": "python3"
  },
  "language_info": {
   "codemirror_mode": {
    "name": "ipython",
    "version": 3
   },
   "file_extension": ".py",
   "mimetype": "text/x-python",
   "name": "python",
   "nbconvert_exporter": "python",
   "pygments_lexer": "ipython3",
   "version": "3.12.3"
  }
 },
 "nbformat": 4,
 "nbformat_minor": 5
}
