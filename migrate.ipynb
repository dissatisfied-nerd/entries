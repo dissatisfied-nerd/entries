{
 "cells": [
  {
   "cell_type": "markdown",
   "id": "5553081b",
   "metadata": {},
   "source": [
    "# Описание схемы базы данных"
   ]
  },
  {
   "cell_type": "markdown",
   "id": "eaad99f1",
   "metadata": {},
   "source": [
    "## Импорт модулей"
   ]
  },
  {
   "cell_type": "code",
   "execution_count": 127,
   "id": "badb607a",
   "metadata": {
    "execution": {
     "iopub.execute_input": "2025-06-28T01:38:26.329572Z",
     "iopub.status.busy": "2025-06-28T01:38:26.329398Z",
     "iopub.status.idle": "2025-06-28T01:38:26.778760Z",
     "shell.execute_reply": "2025-06-28T01:38:26.778140Z"
    }
   },
   "outputs": [],
   "source": [
    "import pandas as pd\n",
    "from sqlalchemy import create_engine, text"
   ]
  },
  {
   "cell_type": "markdown",
   "id": "94436834",
   "metadata": {},
   "source": [
    "## Создание пользователя и базы данных\n",
    "\n",
    "```sql\n",
    "CREATE USER entries_user WITH PASSWORD 'entries_password';\n",
    "CREATE DATABASE entries_db OWNER entries_user;\n",
    "GRANT ALL PRIVILEGES ON DATABASE entries_db TO entries_user;\n",
    "```"
   ]
  },
  {
   "cell_type": "markdown",
   "id": "5a024a05",
   "metadata": {},
   "source": [
    "## Подключение к БД"
   ]
  },
  {
   "cell_type": "code",
   "execution_count": 128,
   "id": "ce903191",
   "metadata": {
    "execution": {
     "iopub.execute_input": "2025-06-28T01:38:26.780984Z",
     "iopub.status.busy": "2025-06-28T01:38:26.780780Z",
     "iopub.status.idle": "2025-06-28T01:38:26.822946Z",
     "shell.execute_reply": "2025-06-28T01:38:26.822337Z"
    }
   },
   "outputs": [],
   "source": [
    "user = \"entries_user\"\n",
    "password = \"entries_password\"\n",
    "host = \"localhost\"\n",
    "port = \"5432\"\n",
    "database = \"entries_db\"\n",
    "\n",
    "engine = create_engine(f\"postgresql://{user}:{password}@{host}:{port}/{database}\")\n",
    "tables = ['entries_src', 'intervals_tgt', 'workdays_tgt', 'aggregated_info_tgt', 'emergency_ref']"
   ]
  },
  {
   "cell_type": "markdown",
   "id": "152bca8e",
   "metadata": {},
   "source": [
    "## Удаление старых таблиц"
   ]
  },
  {
   "cell_type": "code",
   "execution_count": 129,
   "id": "ea078052",
   "metadata": {
    "execution": {
     "iopub.execute_input": "2025-06-28T01:38:26.825735Z",
     "iopub.status.busy": "2025-06-28T01:38:26.825541Z",
     "iopub.status.idle": "2025-06-28T01:38:26.848310Z",
     "shell.execute_reply": "2025-06-28T01:38:26.847708Z"
    }
   },
   "outputs": [],
   "source": [
    "with engine.connect() as conn:\n",
    "    with conn.begin():\n",
    "        for table in tables:\n",
    "            conn.execute(text(f\"DROP TABLE IF EXISTS {table};\"))"
   ]
  },
  {
   "cell_type": "markdown",
   "id": "20cb56b6",
   "metadata": {},
   "source": [
    "## Создание таблиц"
   ]
  },
  {
   "cell_type": "markdown",
   "id": "c466b0bf",
   "metadata": {},
   "source": [
    "### Исходная таблица с сырыми данными"
   ]
  },
  {
   "cell_type": "code",
   "execution_count": 130,
   "id": "1aa92426",
   "metadata": {
    "execution": {
     "iopub.execute_input": "2025-06-28T01:38:26.851314Z",
     "iopub.status.busy": "2025-06-28T01:38:26.851073Z",
     "iopub.status.idle": "2025-06-28T01:38:26.854423Z",
     "shell.execute_reply": "2025-06-28T01:38:26.853857Z"
    }
   },
   "outputs": [],
   "source": [
    "query_entries_src = \"\"\"CREATE TABLE entries_src(\n",
    "    id INTEGER PRIMARY KEY,\n",
    "    full_name VARCHAR(255) NOT NULL,\n",
    "    event_dt TIMESTAMP NOT NULL,\n",
    "    status VARCHAR(32) NOT NULL,\n",
    "    CONSTRAINT unique_full_name_event_dt UNIQUE (full_name, event_dt),\n",
    "    CONSTRAINT valid_status CHECK (status IN ('Вход', 'Выход', 'Доступ запрещён'))\n",
    ");\"\"\""
   ]
  },
  {
   "cell_type": "markdown",
   "id": "a2cabf76",
   "metadata": {},
   "source": [
    "### Справочная таблица с запланированными учениями"
   ]
  },
  {
   "cell_type": "code",
   "execution_count": 131,
   "id": "ffaf017d",
   "metadata": {
    "execution": {
     "iopub.execute_input": "2025-06-28T01:38:26.856871Z",
     "iopub.status.busy": "2025-06-28T01:38:26.856659Z",
     "iopub.status.idle": "2025-06-28T01:38:26.862206Z",
     "shell.execute_reply": "2025-06-28T01:38:26.861581Z"
    }
   },
   "outputs": [],
   "source": [
    "query_emergency_ref = \"\"\"CREATE TABLE emergency_ref(\n",
    "    id INTEGER PRIMARY KEY,\n",
    "    name VARCHAR(255) NOT NULL,\n",
    "    event_dt TIMESTAMP NOT NULL,\n",
    "    duration INTEGER CHECK (duration <= 60)\n",
    ");\"\"\""
   ]
  },
  {
   "cell_type": "markdown",
   "id": "21a118dd",
   "metadata": {},
   "source": [
    "### Целевая таблица с интервалами пребывания сотрудников на рабочем месте"
   ]
  },
  {
   "cell_type": "code",
   "execution_count": 132,
   "id": "0e9fee87",
   "metadata": {
    "execution": {
     "iopub.execute_input": "2025-06-28T01:38:26.864949Z",
     "iopub.status.busy": "2025-06-28T01:38:26.864757Z",
     "iopub.status.idle": "2025-06-28T01:38:26.868329Z",
     "shell.execute_reply": "2025-06-28T01:38:26.867525Z"
    }
   },
   "outputs": [],
   "source": [
    "query_intervals_tgt = \"\"\"CREATE TABLE intervals_tgt(\n",
    "    id INTEGER PRIMARY KEY,\n",
    "    full_name VARCHAR(255) NOT NULL,\n",
    "    enter_dt TIMESTAMP NOT NULL,\n",
    "    exit_dt TIMESTAMP,\n",
    "    CONSTRAINT unique_full_name_enter_dt UNIQUE (full_name, enter_dt)\n",
    ");\"\"\""
   ]
  },
  {
   "cell_type": "markdown",
   "id": "e2244b48",
   "metadata": {},
   "source": [
    "### Целевая таблица с рабочими днями сотрудников"
   ]
  },
  {
   "cell_type": "code",
   "execution_count": null,
   "id": "d2047b9c",
   "metadata": {
    "execution": {
     "iopub.execute_input": "2025-06-28T01:38:26.870797Z",
     "iopub.status.busy": "2025-06-28T01:38:26.870539Z",
     "iopub.status.idle": "2025-06-28T01:38:26.874461Z",
     "shell.execute_reply": "2025-06-28T01:38:26.873780Z"
    }
   },
   "outputs": [],
   "source": [
    "query_workdays_tgt = \"\"\"CREATE TABLE workdays_tgt(\n",
    "    id INTEGER PRIMARY KEY,\n",
    "    full_name VARCHAR(255) NOT NULL,\n",
    "    report_date TIMESTAMP NOT NULL,\n",
    "    enter_dt TIMESTAMP NOT NULL,\n",
    "    exit_dt TIMESTAMP NOT NULL,\n",
    "    CONSTRAINT unique_full_name_report_date UNIQUE (full_name, report_date)\n",
    ");\"\"\""
   ]
  },
  {
   "cell_type": "markdown",
   "id": "f19a42a9",
   "metadata": {},
   "source": [
    "### Агрегированная информация"
   ]
  },
  {
   "cell_type": "code",
   "execution_count": 134,
   "id": "c955d38a",
   "metadata": {
    "execution": {
     "iopub.execute_input": "2025-06-28T01:38:26.877153Z",
     "iopub.status.busy": "2025-06-28T01:38:26.876957Z",
     "iopub.status.idle": "2025-06-28T01:38:26.880664Z",
     "shell.execute_reply": "2025-06-28T01:38:26.880088Z"
    }
   },
   "outputs": [],
   "source": [
    "query_aggregated_info_tgt = \"\"\"\n",
    "    CREATE TABLE aggregated_info_tgt (\n",
    "        id SERIAL PRIMARY KEY,\n",
    "        full_name VARCHAR(255) NOT NULL,\n",
    "        month VARCHAR(7) NOT NULL,\n",
    "        \n",
    "        workdays_count INTEGER NOT NULL,\n",
    "        on_time_count INTEGER NOT NULL,\n",
    "        \n",
    "        late_0_15 INTEGER NOT NULL,\n",
    "        late_15_30 INTEGER NOT NULL,\n",
    "        late_30_60 INTEGER NOT NULL,\n",
    "        late_60_plus INTEGER NOT NULL,\n",
    "        \n",
    "        full_day_count INTEGER NOT NULL,\n",
    "        short_day_count INTEGER NOT NULL,\n",
    "        \n",
    "        avg_worktime NUMERIC(5, 2) NOT NULL\n",
    ");\"\"\""
   ]
  },
  {
   "cell_type": "markdown",
   "id": "a7539ceb",
   "metadata": {},
   "source": [
    "## Загрузка датасета"
   ]
  },
  {
   "cell_type": "code",
   "execution_count": 135,
   "id": "e90d5e97",
   "metadata": {
    "execution": {
     "iopub.execute_input": "2025-06-28T01:38:26.883127Z",
     "iopub.status.busy": "2025-06-28T01:38:26.882871Z",
     "iopub.status.idle": "2025-06-28T01:38:27.300981Z",
     "shell.execute_reply": "2025-06-28T01:38:27.300151Z"
    }
   },
   "outputs": [],
   "source": [
    "df_data = pd.read_csv(\"data/source/entries_src.csv\")\n",
    "df_data.index.name = \"id\"\n",
    "\n",
    "query_insert_entries_src = \"\"\"INSERT INTO entries_src (id, full_name, event_dt, status)\n",
    "    VALUES (:id, :full_name, :event_dt, :status);\"\"\"\n",
    "\n",
    "records_data = df_data.reset_index().to_dict(orient=\"records\")\n",
    "\n",
    "\n",
    "df_emergency = pd.read_csv(\"data/reference/emergency_ref.csv\")\n",
    "df_emergency.index.name = \"id\"\n",
    "\n",
    "query_insert_emergency_ref = \"\"\"INSERT INTO emergency_ref (id, name, event_dt, duration)\n",
    "    VALUES (:id, :name, :event_dt, :duration);\"\"\"\n",
    "\n",
    "records_emergency = df_emergency.reset_index().to_dict(orient=\"records\")\n",
    "\n",
    "with engine.connect() as conn:\n",
    "    with conn.begin():\n",
    "        conn.execute(text(query_entries_src))\n",
    "\n",
    "        conn.execute(text(query_emergency_ref))\n",
    "\n",
    "        conn.execute(text(query_intervals_tgt))\n",
    "        conn.execute(text(query_workdays_tgt))\n",
    "        conn.execute(text(query_aggregated_info_tgt))\n",
    "\n",
    "        for record in records_data:\n",
    "            conn.execute(text(query_insert_entries_src), record)\n",
    "\n",
    "        for record in records_emergency:\n",
    "            conn.execute(text(query_insert_emergency_ref), record)"
   ]
  }
 ],
 "metadata": {
  "kernelspec": {
   "display_name": "venv",
   "language": "python",
   "name": "python3"
  },
  "language_info": {
   "codemirror_mode": {
    "name": "ipython",
    "version": 3
   },
   "file_extension": ".py",
   "mimetype": "text/x-python",
   "name": "python",
   "nbconvert_exporter": "python",
   "pygments_lexer": "ipython3",
   "version": "3.12.3"
  }
 },
 "nbformat": 4,
 "nbformat_minor": 5
}
